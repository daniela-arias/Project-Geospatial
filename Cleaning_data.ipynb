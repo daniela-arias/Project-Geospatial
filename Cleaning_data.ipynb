{
 "cells": [
  {
   "cell_type": "code",
   "execution_count": 2,
   "id": "fe1d48f5",
   "metadata": {},
   "outputs": [],
   "source": [
    "import requests\n",
    "import json\n",
    "from dotenv import load_dotenv\n",
    "import os\n",
    "import pandas as pd\n",
    "from functools import reduce\n",
    "import operator\n"
   ]
  },
  {
   "cell_type": "code",
   "execution_count": 3,
   "id": "1664a557",
   "metadata": {},
   "outputs": [],
   "source": [
    "#import src.cleaning_functions as fc"
   ]
  },
  {
   "cell_type": "code",
   "execution_count": 4,
   "id": "d345c378",
   "metadata": {},
   "outputs": [
    {
     "data": {
      "text/plain": [
       "True"
      ]
     },
     "execution_count": 4,
     "metadata": {},
     "output_type": "execute_result"
    }
   ],
   "source": [
    "load_dotenv()"
   ]
  },
  {
   "cell_type": "code",
   "execution_count": 5,
   "id": "d3c63929",
   "metadata": {},
   "outputs": [],
   "source": [
    "client_id = os.getenv(\"tok1\")\n",
    "client_secret = os.getenv(\"tok2\")"
   ]
  },
  {
   "cell_type": "code",
   "execution_count": 6,
   "id": "b0ca5a4c",
   "metadata": {},
   "outputs": [],
   "source": [
    "url = \"https://favqs.com/api/session\"\n",
    "url_query = 'https://api.foursquare.com/v2/venues/search'\n",
    "url_recomendados = 'https://api.foursquare.com/v2/venues/explore'"
   ]
  },
  {
   "cell_type": "code",
   "execution_count": 7,
   "id": "a9c3a128",
   "metadata": {},
   "outputs": [],
   "source": [
    "madrid_coord = {'type': 'Point', 'coordinates': [40.42955,-3.6793]}\n",
    "dublin_coord = {'type': 'Point', 'coordinates': [53.34919,-6.2606]}, \n",
    "bucarest_coord = {'type': 'Point', 'coordinates': [44.42724,26.09208]}"
   ]
  },
  {
   "cell_type": "code",
   "execution_count": 56,
   "id": "b4cf1fce",
   "metadata": {},
   "outputs": [],
   "source": [
    "parametros = {\n",
    "    \"client_id\": client_id,\n",
    "    \"client_secret\": client_secret,\n",
    "    \"v\": \"20180323\",\n",
    "    \"ll\": f\"{53.34919},{-6.2606}\",\n",
    "    \"query\": \"Starbucks\"\n",
    "}"
   ]
  },
  {
   "cell_type": "code",
   "execution_count": 58,
   "id": "1c02473a",
   "metadata": {},
   "outputs": [],
   "source": [
    "resp = requests.get(url_query, params = parametros).json()"
   ]
  },
  {
   "cell_type": "code",
   "execution_count": 59,
   "id": "87fc06b4",
   "metadata": {},
   "outputs": [
    {
     "data": {
      "text/plain": [
       "dict"
      ]
     },
     "execution_count": 59,
     "metadata": {},
     "output_type": "execute_result"
    }
   ],
   "source": [
    "type(resp)"
   ]
  },
  {
   "cell_type": "code",
   "execution_count": 60,
   "id": "34e62a7f",
   "metadata": {},
   "outputs": [],
   "source": [
    "#resp"
   ]
  },
  {
   "cell_type": "code",
   "execution_count": 12,
   "id": "b6ea12d4",
   "metadata": {},
   "outputs": [],
   "source": [
    "import pyjsonviewer"
   ]
  },
  {
   "cell_type": "code",
   "execution_count": 13,
   "id": "2aa02d1d",
   "metadata": {},
   "outputs": [],
   "source": [
    "#pyjsonviewer.view_data(json_data=resp)"
   ]
  },
  {
   "cell_type": "code",
   "execution_count": 43,
   "id": "36016d82",
   "metadata": {},
   "outputs": [],
   "source": [
    "import json\n",
    "with open('data.json', 'w') as f:\n",
    "    json.dump(resp, f)"
   ]
  },
  {
   "cell_type": "code",
   "execution_count": 15,
   "id": "a6ff3926",
   "metadata": {},
   "outputs": [],
   "source": [
    "pyjsonviewer.view_data(json_file=\"data.json\")"
   ]
  },
  {
   "cell_type": "code",
   "execution_count": 61,
   "id": "dbde9838",
   "metadata": {},
   "outputs": [
    {
     "data": {
      "text/plain": [
       "dict_keys(['venues'])"
      ]
     },
     "execution_count": 61,
     "metadata": {},
     "output_type": "execute_result"
    }
   ],
   "source": [
    "resp[\"response\"].keys()"
   ]
  },
  {
   "cell_type": "code",
   "execution_count": 62,
   "id": "3c9e17bd",
   "metadata": {},
   "outputs": [
    {
     "data": {
      "text/plain": [
       "{'id': '4af1ea70f964a5205ee421e3',\n",
       " 'name': 'Starbucks',\n",
       " 'contact': {},\n",
       " 'location': {'address': '1 College Green',\n",
       "  'lat': 53.344414517730876,\n",
       "  'lng': -6.260942333680538,\n",
       "  'labeledLatLngs': [{'label': 'display',\n",
       "    'lat': 53.344414517730876,\n",
       "    'lng': -6.260942333680538}],\n",
       "  'distance': 532,\n",
       "  'postalCode': '2',\n",
       "  'cc': 'IE',\n",
       "  'city': 'Dublin',\n",
       "  'state': 'Dublin City',\n",
       "  'country': 'Ireland',\n",
       "  'formattedAddress': ['1 College Green', 'Dublin', 'Dublin City', 'Ireland']},\n",
       " 'categories': [{'id': '4bf58dd8d48988d1e0931735',\n",
       "   'name': 'Coffee Shop',\n",
       "   'pluralName': 'Coffee Shops',\n",
       "   'shortName': 'Coffee Shop',\n",
       "   'icon': {'prefix': 'https://ss3.4sqi.net/img/categories_v2/food/coffeeshop_',\n",
       "    'suffix': '.png'},\n",
       "   'primary': True}],\n",
       " 'verified': True,\n",
       " 'stats': {'tipCount': 0,\n",
       "  'usersCount': 0,\n",
       "  'checkinsCount': 0,\n",
       "  'visitsCount': 0},\n",
       " 'beenHere': {'count': 0,\n",
       "  'lastCheckinExpiredAt': 0,\n",
       "  'marked': False,\n",
       "  'unconfirmedCount': 0},\n",
       " 'hereNow': {'count': 0, 'summary': 'Nobody here', 'groups': []},\n",
       " 'referralId': 'v-1636797417',\n",
       " 'venueChains': [],\n",
       " 'hasPerk': False}"
      ]
     },
     "execution_count": 62,
     "metadata": {},
     "output_type": "execute_result"
    }
   ],
   "source": [
    "resp[\"response\"][\"venues\"][0]"
   ]
  },
  {
   "cell_type": "code",
   "execution_count": 63,
   "id": "82977c7a",
   "metadata": {},
   "outputs": [
    {
     "data": {
      "text/plain": [
       "dict_keys(['id', 'name', 'contact', 'location', 'categories', 'verified', 'stats', 'beenHere', 'hereNow', 'referralId', 'venueChains', 'hasPerk'])"
      ]
     },
     "execution_count": 63,
     "metadata": {},
     "output_type": "execute_result"
    }
   ],
   "source": [
    "resp[\"response\"][\"venues\"][0].keys()"
   ]
  },
  {
   "cell_type": "code",
   "execution_count": 64,
   "id": "20900f75",
   "metadata": {},
   "outputs": [],
   "source": [
    "def getFromDict(diccionario,mapa):\n",
    "    return reduce(operator.getitem,mapa,diccionario)"
   ]
  },
  {
   "cell_type": "code",
   "execution_count": 65,
   "id": "4bdc1d0d",
   "metadata": {},
   "outputs": [],
   "source": [
    "map_ = [\"location\", \"lat\"]"
   ]
  },
  {
   "cell_type": "code",
   "execution_count": 66,
   "id": "2d77b020",
   "metadata": {},
   "outputs": [
    {
     "data": {
      "text/plain": [
       "53.344414517730876"
      ]
     },
     "execution_count": 66,
     "metadata": {},
     "output_type": "execute_result"
    }
   ],
   "source": [
    "getFromDict(resp[\"response\"][\"venues\"][0], map_)"
   ]
  },
  {
   "cell_type": "code",
   "execution_count": 67,
   "id": "10e4aa6e",
   "metadata": {},
   "outputs": [],
   "source": [
    "def type_point(lista):\n",
    "    return {\"type\":\"Point\", \"coordinates\": lista}"
   ]
  },
  {
   "cell_type": "code",
   "execution_count": 69,
   "id": "6ce2d603",
   "metadata": {},
   "outputs": [],
   "source": [
    "Dublin_Starbucks_Dict = resp[\"response\"][\"venues\"]"
   ]
  },
  {
   "cell_type": "code",
   "execution_count": 70,
   "id": "3a8fac94",
   "metadata": {},
   "outputs": [
    {
     "data": {
      "text/plain": [
       "list"
      ]
     },
     "execution_count": 70,
     "metadata": {},
     "output_type": "execute_result"
    }
   ],
   "source": [
    "type(Dublin_Starbucks_Dict)"
   ]
  },
  {
   "cell_type": "code",
   "execution_count": 71,
   "id": "bdab7fd9",
   "metadata": {},
   "outputs": [],
   "source": [
    "todo = {\"nombre\": [\"name\"], \"dirección\": [\"location\", \"address\"], \"latitud\": [\"location\", \"lat\"], \"longitud\": [\"location\", \"lng\"]}"
   ]
  },
  {
   "cell_type": "code",
   "execution_count": 72,
   "id": "282ce715",
   "metadata": {},
   "outputs": [],
   "source": [
    "def extraetodo(json):\n",
    "    todo = {\"nombre\": [\"name\"], \"latitud\": [\"location\", \"lat\"], \"longitud\": [\"location\", \"lng\"]} \n",
    "    total = []\n",
    "    for elemento in json:\n",
    "        libre = {key: getFromDict(elemento, value) for key,value in todo.items()}\n",
    "        libre[\"location\"] = type_point([libre[\"latitud\"], libre[\"longitud\"]])\n",
    "        total.append(libre)\n",
    "    return total"
   ]
  },
  {
   "cell_type": "code",
   "execution_count": 73,
   "id": "448dce5e",
   "metadata": {},
   "outputs": [],
   "source": [
    "Starbucks_Dublin = extraetodo(Dublin_Starbucks_Dict) "
   ]
  },
  {
   "cell_type": "code",
   "execution_count": 31,
   "id": "8875682e",
   "metadata": {},
   "outputs": [],
   "source": [
    "data_Starb_D = pd.DataFrame(Starbucks_Bucarest)"
   ]
  },
  {
   "cell_type": "code",
   "execution_count": 32,
   "id": "8d79da87",
   "metadata": {},
   "outputs": [
    {
     "data": {
      "text/html": [
       "<div>\n",
       "<style scoped>\n",
       "    .dataframe tbody tr th:only-of-type {\n",
       "        vertical-align: middle;\n",
       "    }\n",
       "\n",
       "    .dataframe tbody tr th {\n",
       "        vertical-align: top;\n",
       "    }\n",
       "\n",
       "    .dataframe thead th {\n",
       "        text-align: right;\n",
       "    }\n",
       "</style>\n",
       "<table border=\"1\" class=\"dataframe\">\n",
       "  <thead>\n",
       "    <tr style=\"text-align: right;\">\n",
       "      <th></th>\n",
       "      <th>nombre</th>\n",
       "      <th>latitud</th>\n",
       "      <th>longitud</th>\n",
       "      <th>location</th>\n",
       "    </tr>\n",
       "  </thead>\n",
       "  <tbody>\n",
       "    <tr>\n",
       "      <th>0</th>\n",
       "      <td>Starbucks</td>\n",
       "      <td>44.429186</td>\n",
       "      <td>26.101656</td>\n",
       "      <td>{'type': 'Point', 'coordinates': [44.429186393...</td>\n",
       "    </tr>\n",
       "    <tr>\n",
       "      <th>1</th>\n",
       "      <td>Starbucks</td>\n",
       "      <td>44.421537</td>\n",
       "      <td>26.149599</td>\n",
       "      <td>{'type': 'Point', 'coordinates': [44.421536889...</td>\n",
       "    </tr>\n",
       "    <tr>\n",
       "      <th>2</th>\n",
       "      <td>Starbucks</td>\n",
       "      <td>44.445334</td>\n",
       "      <td>26.062445</td>\n",
       "      <td>{'type': 'Point', 'coordinates': [44.445333890...</td>\n",
       "    </tr>\n",
       "    <tr>\n",
       "      <th>3</th>\n",
       "      <td>Starbucks</td>\n",
       "      <td>44.478522</td>\n",
       "      <td>26.102503</td>\n",
       "      <td>{'type': 'Point', 'coordinates': [44.478522111...</td>\n",
       "    </tr>\n",
       "    <tr>\n",
       "      <th>4</th>\n",
       "      <td>Starbucks</td>\n",
       "      <td>44.449437</td>\n",
       "      <td>26.088197</td>\n",
       "      <td>{'type': 'Point', 'coordinates': [44.449436602...</td>\n",
       "    </tr>\n",
       "  </tbody>\n",
       "</table>\n",
       "</div>"
      ],
      "text/plain": [
       "      nombre    latitud   longitud  \\\n",
       "0  Starbucks  44.429186  26.101656   \n",
       "1  Starbucks  44.421537  26.149599   \n",
       "2  Starbucks  44.445334  26.062445   \n",
       "3  Starbucks  44.478522  26.102503   \n",
       "4  Starbucks  44.449437  26.088197   \n",
       "\n",
       "                                            location  \n",
       "0  {'type': 'Point', 'coordinates': [44.429186393...  \n",
       "1  {'type': 'Point', 'coordinates': [44.421536889...  \n",
       "2  {'type': 'Point', 'coordinates': [44.445333890...  \n",
       "3  {'type': 'Point', 'coordinates': [44.478522111...  \n",
       "4  {'type': 'Point', 'coordinates': [44.449436602...  "
      ]
     },
     "execution_count": 32,
     "metadata": {},
     "output_type": "execute_result"
    }
   ],
   "source": [
    "data_Starb_B.head()"
   ]
  },
  {
   "cell_type": "markdown",
   "id": "faa63b1e",
   "metadata": {},
   "source": [
    "# DataFrames de Starbucks de las ciudades"
   ]
  },
  {
   "cell_type": "code",
   "execution_count": 73,
   "id": "8fb2397f",
   "metadata": {},
   "outputs": [],
   "source": [
    "#data_Starb_M"
   ]
  },
  {
   "cell_type": "code",
   "execution_count": 79,
   "id": "b148a09b",
   "metadata": {},
   "outputs": [],
   "source": [
    "#data_Starb_D"
   ]
  },
  {
   "cell_type": "code",
   "execution_count": 34,
   "id": "f1c812e9",
   "metadata": {},
   "outputs": [],
   "source": [
    "#data_Starb_B"
   ]
  },
  {
   "cell_type": "code",
   "execution_count": 74,
   "id": "177facf9",
   "metadata": {},
   "outputs": [],
   "source": [
    "import json\n",
    "with open (\"D_starb.json\",\"w\") as f: # creamos un archivo vacío en el que vamos a escribir\n",
    "    json.dump(Starbucks_Dublin,f) # cargamos nuestra lista de diccionarios en ese archivo"
   ]
  },
  {
   "cell_type": "code",
   "execution_count": 75,
   "id": "836050d1",
   "metadata": {},
   "outputs": [
    {
     "data": {
      "text/plain": [
       "_io.TextIOWrapper"
      ]
     },
     "execution_count": 75,
     "metadata": {},
     "output_type": "execute_result"
    }
   ],
   "source": [
    "type(f)"
   ]
  },
  {
   "cell_type": "code",
   "execution_count": null,
   "id": "85d19331",
   "metadata": {},
   "outputs": [],
   "source": []
  },
  {
   "cell_type": "code",
   "execution_count": null,
   "id": "e542727f",
   "metadata": {},
   "outputs": [],
   "source": []
  }
 ],
 "metadata": {
  "kernelspec": {
   "display_name": "ironhack",
   "language": "python",
   "name": "ironhack"
  },
  "language_info": {
   "codemirror_mode": {
    "name": "ipython",
    "version": 3
   },
   "file_extension": ".py",
   "mimetype": "text/x-python",
   "name": "python",
   "nbconvert_exporter": "python",
   "pygments_lexer": "ipython3",
   "version": "3.8.10"
  }
 },
 "nbformat": 4,
 "nbformat_minor": 5
}
