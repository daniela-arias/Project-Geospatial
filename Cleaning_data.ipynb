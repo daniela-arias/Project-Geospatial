{
 "cells": [
  {
   "cell_type": "code",
   "execution_count": 1,
   "id": "fe1d48f5",
   "metadata": {},
   "outputs": [],
   "source": [
    "import requests\n",
    "import json\n",
    "from dotenv import load_dotenv\n",
    "import os\n",
    "import pandas as pd\n",
    "from functools import reduce\n",
    "import operator"
   ]
  },
  {
   "cell_type": "code",
   "execution_count": 2,
   "id": "e084fc0f",
   "metadata": {},
   "outputs": [],
   "source": [
    "#import src.cleaning_functions as fc"
   ]
  },
  {
   "cell_type": "code",
   "execution_count": 3,
   "id": "d345c378",
   "metadata": {},
   "outputs": [
    {
     "data": {
      "text/plain": [
       "True"
      ]
     },
     "execution_count": 3,
     "metadata": {},
     "output_type": "execute_result"
    }
   ],
   "source": [
    "load_dotenv()"
   ]
  },
  {
   "cell_type": "code",
   "execution_count": 4,
   "id": "d3c63929",
   "metadata": {},
   "outputs": [],
   "source": [
    "client_id = os.getenv(\"tok1\")\n",
    "client_secret = os.getenv(\"tok2\")"
   ]
  },
  {
   "cell_type": "code",
   "execution_count": 5,
   "id": "b0ca5a4c",
   "metadata": {},
   "outputs": [],
   "source": [
    "url = \"https://favqs.com/api/session\"\n",
    "url_query = 'https://api.foursquare.com/v2/venues/search'\n",
    "url_recomendados = 'https://api.foursquare.com/v2/venues/explore'"
   ]
  },
  {
   "cell_type": "code",
   "execution_count": 6,
   "id": "a9c3a128",
   "metadata": {},
   "outputs": [],
   "source": [
    "madrid_coord = {'type': 'Point', 'coordinates': [40.42955,-3.6793]}\n",
    "dublin_coord = {'type': 'Point', 'coordinates': [53.34919,-6.2606]}, \n",
    "bucarest_coord = {'type': 'Point', 'coordinates': [44.42724,26.09208]}"
   ]
  },
  {
   "cell_type": "code",
   "execution_count": 196,
   "id": "b4cf1fce",
   "metadata": {},
   "outputs": [],
   "source": [
    "parametros = {\n",
    "    \"client_id\": client_id,\n",
    "    \"client_secret\": client_secret,\n",
    "    \"v\": \"20180323\",\n",
    "    \"ll\": f\"{53.34919},{-6.2606}\",\n",
    "    \"query\": \"nightclub\"\n",
    "}"
   ]
  },
  {
   "cell_type": "code",
   "execution_count": 197,
   "id": "1c02473a",
   "metadata": {},
   "outputs": [],
   "source": [
    "resp = requests.get(url_query, params = parametros).json()"
   ]
  },
  {
   "cell_type": "code",
   "execution_count": 198,
   "id": "87fc06b4",
   "metadata": {},
   "outputs": [
    {
     "data": {
      "text/plain": [
       "dict"
      ]
     },
     "execution_count": 198,
     "metadata": {},
     "output_type": "execute_result"
    }
   ],
   "source": [
    "type(resp)"
   ]
  },
  {
   "cell_type": "code",
   "execution_count": 199,
   "id": "34e62a7f",
   "metadata": {},
   "outputs": [],
   "source": [
    "#resp"
   ]
  },
  {
   "cell_type": "code",
   "execution_count": 200,
   "id": "b6ea12d4",
   "metadata": {},
   "outputs": [],
   "source": [
    "import pyjsonviewer"
   ]
  },
  {
   "cell_type": "code",
   "execution_count": 201,
   "id": "2aa02d1d",
   "metadata": {},
   "outputs": [],
   "source": [
    "#pyjsonviewer.view_data(json_data=resp)"
   ]
  },
  {
   "cell_type": "code",
   "execution_count": 202,
   "id": "36016d82",
   "metadata": {},
   "outputs": [],
   "source": [
    "import json\n",
    "with open('data.json', 'w') as f:\n",
    "    json.dump(resp, f)"
   ]
  },
  {
   "cell_type": "code",
   "execution_count": 203,
   "id": "a6ff3926",
   "metadata": {},
   "outputs": [],
   "source": [
    "#pyjsonviewer.view_data(json_file=\"data.json\")"
   ]
  },
  {
   "cell_type": "code",
   "execution_count": 204,
   "id": "a8d7f890",
   "metadata": {},
   "outputs": [
    {
     "data": {
      "text/plain": [
       "dict_keys(['venues'])"
      ]
     },
     "execution_count": 204,
     "metadata": {},
     "output_type": "execute_result"
    }
   ],
   "source": [
    "resp[\"response\"].keys()"
   ]
  },
  {
   "cell_type": "code",
   "execution_count": 205,
   "id": "7934f6e0",
   "metadata": {},
   "outputs": [
    {
     "data": {
      "text/plain": [
       "{'id': '4d2f3e72b97cb1f7a28c9648',\n",
       " 'name': 'Alchemy Nightclub',\n",
       " 'contact': {},\n",
       " 'location': {'address': 'Fleet St, Temple Bar',\n",
       "  'lat': 53.34607223552292,\n",
       "  'lng': -6.260477327929122,\n",
       "  'labeledLatLngs': [{'label': 'display',\n",
       "    'lat': 53.34607223552292,\n",
       "    'lng': -6.260477327929122}],\n",
       "  'distance': 347,\n",
       "  'postalCode': '2',\n",
       "  'cc': 'IE',\n",
       "  'city': 'Dublin',\n",
       "  'state': 'Dublin City',\n",
       "  'country': 'Ireland',\n",
       "  'formattedAddress': ['Fleet St, Temple Bar',\n",
       "   'Dublin',\n",
       "   'Dublin City',\n",
       "   'Ireland']},\n",
       " 'categories': [{'id': '4bf58dd8d48988d11f941735',\n",
       "   'name': 'Nightclub',\n",
       "   'pluralName': 'Nightclubs',\n",
       "   'shortName': 'Nightclub',\n",
       "   'icon': {'prefix': 'https://ss3.4sqi.net/img/categories_v2/nightlife/nightclub_',\n",
       "    'suffix': '.png'},\n",
       "   'primary': True}],\n",
       " 'verified': False,\n",
       " 'stats': {'tipCount': 0,\n",
       "  'usersCount': 0,\n",
       "  'checkinsCount': 0,\n",
       "  'visitsCount': 0},\n",
       " 'beenHere': {'count': 0,\n",
       "  'lastCheckinExpiredAt': 0,\n",
       "  'marked': False,\n",
       "  'unconfirmedCount': 0},\n",
       " 'hereNow': {'count': 0, 'summary': 'Nobody here', 'groups': []},\n",
       " 'referralId': 'v-1636804127',\n",
       " 'venueChains': [],\n",
       " 'hasPerk': False}"
      ]
     },
     "execution_count": 205,
     "metadata": {},
     "output_type": "execute_result"
    }
   ],
   "source": [
    "resp[\"response\"][\"venues\"][0]"
   ]
  },
  {
   "cell_type": "code",
   "execution_count": 206,
   "id": "82977c7a",
   "metadata": {},
   "outputs": [
    {
     "data": {
      "text/plain": [
       "dict_keys(['id', 'name', 'contact', 'location', 'categories', 'verified', 'stats', 'beenHere', 'hereNow', 'referralId', 'venueChains', 'hasPerk'])"
      ]
     },
     "execution_count": 206,
     "metadata": {},
     "output_type": "execute_result"
    }
   ],
   "source": [
    "resp[\"response\"][\"venues\"][0].keys()"
   ]
  },
  {
   "cell_type": "code",
   "execution_count": 207,
   "id": "379f3639",
   "metadata": {},
   "outputs": [],
   "source": [
    "def getFromDict(diccionario,mapa):\n",
    "    return reduce(operator.getitem,mapa,diccionario)"
   ]
  },
  {
   "cell_type": "code",
   "execution_count": 208,
   "id": "52a938d9",
   "metadata": {},
   "outputs": [],
   "source": [
    "map_ = [\"location\", \"lat\"]"
   ]
  },
  {
   "cell_type": "code",
   "execution_count": 209,
   "id": "d1aee478",
   "metadata": {},
   "outputs": [
    {
     "data": {
      "text/plain": [
       "53.34607223552292"
      ]
     },
     "execution_count": 209,
     "metadata": {},
     "output_type": "execute_result"
    }
   ],
   "source": [
    "getFromDict(resp[\"response\"][\"venues\"][0], map_)"
   ]
  },
  {
   "cell_type": "code",
   "execution_count": 210,
   "id": "cbcf3960",
   "metadata": {},
   "outputs": [],
   "source": [
    "def type_point(lista):\n",
    "    return {\"type\":\"Point\", \"coordinates\": lista}"
   ]
  },
  {
   "cell_type": "code",
   "execution_count": 211,
   "id": "ee79b06c",
   "metadata": {},
   "outputs": [],
   "source": [
    "Dublin_nightclub_Dict = resp[\"response\"][\"venues\"]"
   ]
  },
  {
   "cell_type": "code",
   "execution_count": 212,
   "id": "961f2edd",
   "metadata": {},
   "outputs": [
    {
     "data": {
      "text/plain": [
       "list"
      ]
     },
     "execution_count": 212,
     "metadata": {},
     "output_type": "execute_result"
    }
   ],
   "source": [
    "type(Dublin_nightclub_Dict)"
   ]
  },
  {
   "cell_type": "code",
   "execution_count": 213,
   "id": "1d34a674",
   "metadata": {},
   "outputs": [],
   "source": [
    "todo = {\"nombre\": [\"name\"], \"dirección\": [\"location\", \"address\"], \"latitud\": [\"location\", \"lat\"], \"longitud\": [\"location\", \"lng\"]}"
   ]
  },
  {
   "cell_type": "code",
   "execution_count": 214,
   "id": "f7b8f177",
   "metadata": {},
   "outputs": [],
   "source": [
    "def extraetodo(json):\n",
    "    todo = {\"nombre\": [\"name\"], \"latitud\": [\"location\", \"lat\"], \"longitud\": [\"location\", \"lng\"]} \n",
    "    total = []\n",
    "    for elemento in json:\n",
    "        libre = {key: getFromDict(elemento, value) for key,value in todo.items()}\n",
    "        libre[\"location\"] = type_point([libre[\"latitud\"], libre[\"longitud\"]])\n",
    "        total.append(libre)\n",
    "    return total"
   ]
  },
  {
   "cell_type": "code",
   "execution_count": 215,
   "id": "46ed6fcc",
   "metadata": {},
   "outputs": [],
   "source": [
    "nightclub_Dublin = extraetodo(Dublin_nightclub_Dict) "
   ]
  },
  {
   "cell_type": "code",
   "execution_count": 216,
   "id": "8da900f7",
   "metadata": {},
   "outputs": [],
   "source": [
    "data_nightclub_D = pd.DataFrame(nightclub_Dublin)"
   ]
  },
  {
   "cell_type": "code",
   "execution_count": 217,
   "id": "1bd1deb2",
   "metadata": {},
   "outputs": [
    {
     "data": {
      "text/html": [
       "<div>\n",
       "<style scoped>\n",
       "    .dataframe tbody tr th:only-of-type {\n",
       "        vertical-align: middle;\n",
       "    }\n",
       "\n",
       "    .dataframe tbody tr th {\n",
       "        vertical-align: top;\n",
       "    }\n",
       "\n",
       "    .dataframe thead th {\n",
       "        text-align: right;\n",
       "    }\n",
       "</style>\n",
       "<table border=\"1\" class=\"dataframe\">\n",
       "  <thead>\n",
       "    <tr style=\"text-align: right;\">\n",
       "      <th></th>\n",
       "      <th>nombre</th>\n",
       "      <th>latitud</th>\n",
       "      <th>longitud</th>\n",
       "      <th>location</th>\n",
       "    </tr>\n",
       "  </thead>\n",
       "  <tbody>\n",
       "    <tr>\n",
       "      <th>0</th>\n",
       "      <td>Alchemy Nightclub</td>\n",
       "      <td>53.346072</td>\n",
       "      <td>-6.260477</td>\n",
       "      <td>{'type': 'Point', 'coordinates': [53.346072235...</td>\n",
       "    </tr>\n",
       "    <tr>\n",
       "      <th>1</th>\n",
       "      <td>Play Nightclub Dublin</td>\n",
       "      <td>53.350267</td>\n",
       "      <td>-6.270144</td>\n",
       "      <td>{'type': 'Point', 'coordinates': [53.350267474...</td>\n",
       "    </tr>\n",
       "    <tr>\n",
       "      <th>2</th>\n",
       "      <td>Sanctuary Nightclub</td>\n",
       "      <td>53.346922</td>\n",
       "      <td>-6.258883</td>\n",
       "      <td>{'type': 'Point', 'coordinates': [53.346922, -...</td>\n",
       "    </tr>\n",
       "    <tr>\n",
       "      <th>3</th>\n",
       "      <td>Boomerang Nightclub</td>\n",
       "      <td>53.345763</td>\n",
       "      <td>-6.262219</td>\n",
       "      <td>{'type': 'Point', 'coordinates': [53.345762549...</td>\n",
       "    </tr>\n",
       "    <tr>\n",
       "      <th>4</th>\n",
       "      <td>Marquee Nightclub</td>\n",
       "      <td>53.345196</td>\n",
       "      <td>-6.265937</td>\n",
       "      <td>{'type': 'Point', 'coordinates': [53.345196, -...</td>\n",
       "    </tr>\n",
       "  </tbody>\n",
       "</table>\n",
       "</div>"
      ],
      "text/plain": [
       "                  nombre    latitud  longitud  \\\n",
       "0      Alchemy Nightclub  53.346072 -6.260477   \n",
       "1  Play Nightclub Dublin  53.350267 -6.270144   \n",
       "2    Sanctuary Nightclub  53.346922 -6.258883   \n",
       "3    Boomerang Nightclub  53.345763 -6.262219   \n",
       "4      Marquee Nightclub  53.345196 -6.265937   \n",
       "\n",
       "                                            location  \n",
       "0  {'type': 'Point', 'coordinates': [53.346072235...  \n",
       "1  {'type': 'Point', 'coordinates': [53.350267474...  \n",
       "2  {'type': 'Point', 'coordinates': [53.346922, -...  \n",
       "3  {'type': 'Point', 'coordinates': [53.345762549...  \n",
       "4  {'type': 'Point', 'coordinates': [53.345196, -...  "
      ]
     },
     "execution_count": 217,
     "metadata": {},
     "output_type": "execute_result"
    }
   ],
   "source": [
    "data_nightclub_D.head()"
   ]
  },
  {
   "cell_type": "markdown",
   "id": "e3f61182",
   "metadata": {},
   "source": [
    "# DataFrames de Starbucks de las ciudades"
   ]
  },
  {
   "cell_type": "code",
   "execution_count": 73,
   "id": "961f9b0d",
   "metadata": {},
   "outputs": [],
   "source": [
    "#data_Starb_M"
   ]
  },
  {
   "cell_type": "code",
   "execution_count": 79,
   "id": "0e58c22a",
   "metadata": {},
   "outputs": [],
   "source": [
    "#data_Starb_D"
   ]
  },
  {
   "cell_type": "code",
   "execution_count": 43,
   "id": "83f4ba9e",
   "metadata": {},
   "outputs": [],
   "source": [
    "#data_Starb_B"
   ]
  },
  {
   "cell_type": "code",
   "execution_count": 218,
   "id": "6b098e72",
   "metadata": {},
   "outputs": [],
   "source": [
    "import json\n",
    "with open (\"D_nightclub.json\",\"w\") as f: # creamos un archivo vacío en el que vamos a escribir\n",
    "    json.dump(nightclub_Dublin,f) # cargamos nuestra lista de diccionarios en ese archivo"
   ]
  },
  {
   "cell_type": "code",
   "execution_count": 219,
   "id": "1228eb10",
   "metadata": {},
   "outputs": [
    {
     "data": {
      "text/plain": [
       "_io.TextIOWrapper"
      ]
     },
     "execution_count": 219,
     "metadata": {},
     "output_type": "execute_result"
    }
   ],
   "source": [
    "type(f)"
   ]
  },
  {
   "cell_type": "code",
   "execution_count": 46,
   "id": "6baa2ba6",
   "metadata": {},
   "outputs": [],
   "source": [
    "#data_School_D"
   ]
  },
  {
   "cell_type": "code",
   "execution_count": null,
   "id": "eeb620a6",
   "metadata": {},
   "outputs": [],
   "source": []
  }
 ],
 "metadata": {
  "kernelspec": {
   "display_name": "ironhack",
   "language": "python",
   "name": "ironhack"
  },
  "language_info": {
   "codemirror_mode": {
    "name": "ipython",
    "version": 3
   },
   "file_extension": ".py",
   "mimetype": "text/x-python",
   "name": "python",
   "nbconvert_exporter": "python",
   "pygments_lexer": "ipython3",
   "version": "3.8.10"
  }
 },
 "nbformat": 4,
 "nbformat_minor": 5
}
