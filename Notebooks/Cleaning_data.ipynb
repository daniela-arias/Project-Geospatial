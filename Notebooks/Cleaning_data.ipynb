{
 "cells": [
  {
   "cell_type": "code",
   "execution_count": 5,
   "id": "fe1d48f5",
   "metadata": {},
   "outputs": [],
   "source": [
    "#import sys\n",
    "import requests\n",
    "import json\n",
    "from dotenv import load_dotenv\n",
    "import os\n",
    "import pandas as pd\n",
    "from functools import reduce\n",
    "import operator"
   ]
  },
  {
   "cell_type": "code",
   "execution_count": 4,
   "id": "534ce365",
   "metadata": {},
   "outputs": [],
   "source": [
    "#import src.cleaning_functions as fc"
   ]
  },
  {
   "cell_type": "code",
   "execution_count": 6,
   "id": "d345c378",
   "metadata": {},
   "outputs": [
    {
     "data": {
      "text/plain": [
       "True"
      ]
     },
     "execution_count": 6,
     "metadata": {},
     "output_type": "execute_result"
    }
   ],
   "source": [
    "load_dotenv()"
   ]
  },
  {
   "cell_type": "code",
   "execution_count": 7,
   "id": "d3c63929",
   "metadata": {},
   "outputs": [],
   "source": [
    "client_id = os.getenv(\"tok1\")\n",
    "client_secret = os.getenv(\"tok2\")"
   ]
  },
  {
   "cell_type": "code",
   "execution_count": 8,
   "id": "b0ca5a4c",
   "metadata": {},
   "outputs": [],
   "source": [
    "url = \"https://favqs.com/api/session\"\n",
    "url_query = 'https://api.foursquare.com/v2/venues/search'\n",
    "url_recomendados = 'https://api.foursquare.com/v2/venues/explore'"
   ]
  },
  {
   "cell_type": "code",
   "execution_count": 9,
   "id": "a9c3a128",
   "metadata": {},
   "outputs": [],
   "source": [
    "madrid_coord = {'type': 'Point', 'coordinates': [40.42955,-3.6793]}\n",
    "dublin_coord = {'type': 'Point', 'coordinates': [53.34919,-6.2606]}, \n",
    "bucarest_coord = {'type': 'Point', 'coordinates': [44.42724,26.09208]}"
   ]
  },
  {
   "cell_type": "code",
   "execution_count": 10,
   "id": "b4cf1fce",
   "metadata": {},
   "outputs": [],
   "source": [
    "parametros = {\n",
    "    \"client_id\": client_id,\n",
    "    \"client_secret\": client_secret,\n",
    "    \"v\": \"20180323\",\n",
    "    \"ll\": f\"{40.42955},{-3.6793}\",\n",
    "    \"query\": \"nightclub\"\n",
    "}"
   ]
  },
  {
   "cell_type": "code",
   "execution_count": 11,
   "id": "1c02473a",
   "metadata": {},
   "outputs": [],
   "source": [
    "resp = requests.get(url_query, params = parametros).json()"
   ]
  },
  {
   "cell_type": "code",
   "execution_count": 12,
   "id": "87fc06b4",
   "metadata": {},
   "outputs": [
    {
     "data": {
      "text/plain": [
       "dict"
      ]
     },
     "execution_count": 12,
     "metadata": {},
     "output_type": "execute_result"
    }
   ],
   "source": [
    "type(resp)"
   ]
  },
  {
   "cell_type": "code",
   "execution_count": 13,
   "id": "34e62a7f",
   "metadata": {},
   "outputs": [],
   "source": [
    "#resp"
   ]
  },
  {
   "cell_type": "code",
   "execution_count": 14,
   "id": "b6ea12d4",
   "metadata": {},
   "outputs": [],
   "source": [
    "import pyjsonviewer"
   ]
  },
  {
   "cell_type": "code",
   "execution_count": 225,
   "id": "2aa02d1d",
   "metadata": {},
   "outputs": [],
   "source": [
    "#pyjsonviewer.view_data(json_data=resp)"
   ]
  },
  {
   "cell_type": "code",
   "execution_count": 15,
   "id": "36016d82",
   "metadata": {},
   "outputs": [],
   "source": [
    "import json\n",
    "with open('data.json', 'w') as f:\n",
    "    json.dump(resp, f)"
   ]
  },
  {
   "cell_type": "code",
   "execution_count": 227,
   "id": "a6ff3926",
   "metadata": {},
   "outputs": [],
   "source": [
    "#pyjsonviewer.view_data(json_file=\"data.json\")"
   ]
  },
  {
   "cell_type": "code",
   "execution_count": 228,
   "id": "a44a7b71",
   "metadata": {},
   "outputs": [
    {
     "data": {
      "text/plain": [
       "dict_keys(['venues'])"
      ]
     },
     "execution_count": 228,
     "metadata": {},
     "output_type": "execute_result"
    }
   ],
   "source": [
    "resp[\"response\"].keys()"
   ]
  },
  {
   "cell_type": "code",
   "execution_count": 229,
   "id": "703a7afd",
   "metadata": {},
   "outputs": [
    {
     "data": {
      "text/plain": [
       "{'id': '53d91c24498e02947a7c4b57',\n",
       " 'name': 'NightClub Fantasy',\n",
       " 'contact': {},\n",
       " 'location': {'address': 'C/ Diego Ayllon 16',\n",
       "  'lat': 40.43912145342489,\n",
       "  'lng': -3.691036467581746,\n",
       "  'labeledLatLngs': [{'label': 'display',\n",
       "    'lat': 40.43912145342489,\n",
       "    'lng': -3.691036467581746}],\n",
       "  'distance': 1457,\n",
       "  'postalCode': '28043',\n",
       "  'cc': 'ES',\n",
       "  'city': 'Madrid',\n",
       "  'state': 'Madrid',\n",
       "  'country': 'España',\n",
       "  'formattedAddress': ['C/ Diego Ayllon 16', '28043 Madrid Madrid', 'España']},\n",
       " 'categories': [{'id': '4bf58dd8d48988d1d6941735',\n",
       "   'name': 'Strip Club',\n",
       "   'pluralName': 'Strip Clubs',\n",
       "   'shortName': 'Strip Club',\n",
       "   'icon': {'prefix': 'https://ss3.4sqi.net/img/categories_v2/nightlife/stripclub_',\n",
       "    'suffix': '.png'},\n",
       "   'primary': True}],\n",
       " 'verified': False,\n",
       " 'stats': {'tipCount': 0,\n",
       "  'usersCount': 0,\n",
       "  'checkinsCount': 0,\n",
       "  'visitsCount': 0},\n",
       " 'beenHere': {'count': 0,\n",
       "  'lastCheckinExpiredAt': 0,\n",
       "  'marked': False,\n",
       "  'unconfirmedCount': 0},\n",
       " 'hereNow': {'count': 0, 'summary': 'Nobody here', 'groups': []},\n",
       " 'referralId': 'v-1636804222',\n",
       " 'venueChains': [],\n",
       " 'hasPerk': False}"
      ]
     },
     "execution_count": 229,
     "metadata": {},
     "output_type": "execute_result"
    }
   ],
   "source": [
    "resp[\"response\"][\"venues\"][0]"
   ]
  },
  {
   "cell_type": "code",
   "execution_count": 230,
   "id": "82977c7a",
   "metadata": {},
   "outputs": [
    {
     "data": {
      "text/plain": [
       "dict_keys(['id', 'name', 'contact', 'location', 'categories', 'verified', 'stats', 'beenHere', 'hereNow', 'referralId', 'venueChains', 'hasPerk'])"
      ]
     },
     "execution_count": 230,
     "metadata": {},
     "output_type": "execute_result"
    }
   ],
   "source": [
    "resp[\"response\"][\"venues\"][0].keys()"
   ]
  },
  {
   "cell_type": "code",
   "execution_count": 231,
   "id": "4ccce584",
   "metadata": {},
   "outputs": [],
   "source": [
    "def getFromDict(diccionario,mapa):\n",
    "    return reduce(operator.getitem,mapa,diccionario)"
   ]
  },
  {
   "cell_type": "code",
   "execution_count": 232,
   "id": "8348f2e0",
   "metadata": {},
   "outputs": [],
   "source": [
    "map_ = [\"location\", \"lat\"]"
   ]
  },
  {
   "cell_type": "code",
   "execution_count": 233,
   "id": "f92d89ae",
   "metadata": {},
   "outputs": [
    {
     "data": {
      "text/plain": [
       "40.43912145342489"
      ]
     },
     "execution_count": 233,
     "metadata": {},
     "output_type": "execute_result"
    }
   ],
   "source": [
    "getFromDict(resp[\"response\"][\"venues\"][0], map_)"
   ]
  },
  {
   "cell_type": "code",
   "execution_count": 234,
   "id": "6eb4eeea",
   "metadata": {},
   "outputs": [],
   "source": [
    "def type_point(lista):\n",
    "    return {\"type\":\"Point\", \"coordinates\": lista}"
   ]
  },
  {
   "cell_type": "code",
   "execution_count": 235,
   "id": "07cbafb3",
   "metadata": {},
   "outputs": [],
   "source": [
    "Madrid_nightclub_Dict = resp[\"response\"][\"venues\"]"
   ]
  },
  {
   "cell_type": "code",
   "execution_count": 236,
   "id": "67f273e4",
   "metadata": {},
   "outputs": [
    {
     "data": {
      "text/plain": [
       "list"
      ]
     },
     "execution_count": 236,
     "metadata": {},
     "output_type": "execute_result"
    }
   ],
   "source": [
    "type(Madrid_nightclub_Dict)"
   ]
  },
  {
   "cell_type": "code",
   "execution_count": 237,
   "id": "e75ed670",
   "metadata": {},
   "outputs": [],
   "source": [
    "todo = {\"nombre\": [\"name\"], \"dirección\": [\"location\", \"address\"], \"latitud\": [\"location\", \"lat\"], \"longitud\": [\"location\", \"lng\"]}"
   ]
  },
  {
   "cell_type": "code",
   "execution_count": 238,
   "id": "6e4b7708",
   "metadata": {},
   "outputs": [],
   "source": [
    "def extraetodo(json):\n",
    "    todo = {\"nombre\": [\"name\"], \"latitud\": [\"location\", \"lat\"], \"longitud\": [\"location\", \"lng\"]} \n",
    "    total = []\n",
    "    for elemento in json:\n",
    "        libre = {key: getFromDict(elemento, value) for key,value in todo.items()}\n",
    "        libre[\"location\"] = type_point([libre[\"latitud\"], libre[\"longitud\"]])\n",
    "        total.append(libre)\n",
    "    return total"
   ]
  },
  {
   "cell_type": "code",
   "execution_count": 240,
   "id": "772b86f6",
   "metadata": {},
   "outputs": [],
   "source": [
    "nightclub_Madrid = extraetodo(Madrid_nightclub_Dict) "
   ]
  },
  {
   "cell_type": "code",
   "execution_count": 241,
   "id": "98a390ff",
   "metadata": {},
   "outputs": [],
   "source": [
    "data_nightclub_M = pd.DataFrame(nightclub_Madrid)"
   ]
  },
  {
   "cell_type": "code",
   "execution_count": 242,
   "id": "5b2b2d0b",
   "metadata": {},
   "outputs": [
    {
     "data": {
      "text/html": [
       "<div>\n",
       "<style scoped>\n",
       "    .dataframe tbody tr th:only-of-type {\n",
       "        vertical-align: middle;\n",
       "    }\n",
       "\n",
       "    .dataframe tbody tr th {\n",
       "        vertical-align: top;\n",
       "    }\n",
       "\n",
       "    .dataframe thead th {\n",
       "        text-align: right;\n",
       "    }\n",
       "</style>\n",
       "<table border=\"1\" class=\"dataframe\">\n",
       "  <thead>\n",
       "    <tr style=\"text-align: right;\">\n",
       "      <th></th>\n",
       "      <th>nombre</th>\n",
       "      <th>latitud</th>\n",
       "      <th>longitud</th>\n",
       "      <th>location</th>\n",
       "    </tr>\n",
       "  </thead>\n",
       "  <tbody>\n",
       "    <tr>\n",
       "      <th>0</th>\n",
       "      <td>NightClub Fantasy</td>\n",
       "      <td>40.439121</td>\n",
       "      <td>-3.691036</td>\n",
       "      <td>{'type': 'Point', 'coordinates': [40.439121453...</td>\n",
       "    </tr>\n",
       "    <tr>\n",
       "      <th>1</th>\n",
       "      <td>Laura's Kitchen Nightclub</td>\n",
       "      <td>40.425408</td>\n",
       "      <td>-3.669308</td>\n",
       "      <td>{'type': 'Point', 'coordinates': [40.425408266...</td>\n",
       "    </tr>\n",
       "    <tr>\n",
       "      <th>2</th>\n",
       "      <td>Night Club Rossy</td>\n",
       "      <td>40.470401</td>\n",
       "      <td>-3.686642</td>\n",
       "      <td>{'type': 'Point', 'coordinates': [40.470401449...</td>\n",
       "    </tr>\n",
       "    <tr>\n",
       "      <th>3</th>\n",
       "      <td>Hostal Las Fuentes</td>\n",
       "      <td>40.417424</td>\n",
       "      <td>-3.708529</td>\n",
       "      <td>{'type': 'Point', 'coordinates': [40.417424201...</td>\n",
       "    </tr>\n",
       "    <tr>\n",
       "      <th>4</th>\n",
       "      <td>Díaz y Larrouy</td>\n",
       "      <td>40.413423</td>\n",
       "      <td>-3.708313</td>\n",
       "      <td>{'type': 'Point', 'coordinates': [40.413423018...</td>\n",
       "    </tr>\n",
       "  </tbody>\n",
       "</table>\n",
       "</div>"
      ],
      "text/plain": [
       "                      nombre    latitud  longitud  \\\n",
       "0          NightClub Fantasy  40.439121 -3.691036   \n",
       "1  Laura's Kitchen Nightclub  40.425408 -3.669308   \n",
       "2           Night Club Rossy  40.470401 -3.686642   \n",
       "3         Hostal Las Fuentes  40.417424 -3.708529   \n",
       "4             Díaz y Larrouy  40.413423 -3.708313   \n",
       "\n",
       "                                            location  \n",
       "0  {'type': 'Point', 'coordinates': [40.439121453...  \n",
       "1  {'type': 'Point', 'coordinates': [40.425408266...  \n",
       "2  {'type': 'Point', 'coordinates': [40.470401449...  \n",
       "3  {'type': 'Point', 'coordinates': [40.417424201...  \n",
       "4  {'type': 'Point', 'coordinates': [40.413423018...  "
      ]
     },
     "execution_count": 242,
     "metadata": {},
     "output_type": "execute_result"
    }
   ],
   "source": [
    "data_nightclub_M.head()"
   ]
  },
  {
   "cell_type": "markdown",
   "id": "b8d9ba43",
   "metadata": {},
   "source": [
    "# DataFrames de Starbucks de las ciudades"
   ]
  },
  {
   "cell_type": "code",
   "execution_count": 73,
   "id": "082f2133",
   "metadata": {},
   "outputs": [],
   "source": [
    "#data_Starb_M"
   ]
  },
  {
   "cell_type": "code",
   "execution_count": 79,
   "id": "94e89d49",
   "metadata": {},
   "outputs": [],
   "source": [
    "#data_Starb_D"
   ]
  },
  {
   "cell_type": "code",
   "execution_count": 43,
   "id": "1675c89d",
   "metadata": {},
   "outputs": [],
   "source": [
    "#data_Starb_B"
   ]
  },
  {
   "cell_type": "code",
   "execution_count": 243,
   "id": "81609a46",
   "metadata": {},
   "outputs": [],
   "source": [
    "import json\n",
    "with open (\"M_nightclub.json\",\"w\") as f: # creamos un archivo vacío en el que vamos a escribir\n",
    "    json.dump(nightclub_Madrid,f) # cargamos nuestra lista de diccionarios en ese archivo"
   ]
  },
  {
   "cell_type": "code",
   "execution_count": 244,
   "id": "a5dd79e6",
   "metadata": {},
   "outputs": [
    {
     "data": {
      "text/plain": [
       "_io.TextIOWrapper"
      ]
     },
     "execution_count": 244,
     "metadata": {},
     "output_type": "execute_result"
    }
   ],
   "source": [
    "type(f)"
   ]
  },
  {
   "cell_type": "code",
   "execution_count": 46,
   "id": "ffdfffb7",
   "metadata": {},
   "outputs": [],
   "source": [
    "#data_School_D"
   ]
  },
  {
   "cell_type": "code",
   "execution_count": null,
   "id": "5cadf13d",
   "metadata": {},
   "outputs": [],
   "source": []
  }
 ],
 "metadata": {
  "kernelspec": {
   "display_name": "ironhack",
   "language": "python",
   "name": "ironhack"
  },
  "language_info": {
   "codemirror_mode": {
    "name": "ipython",
    "version": 3
   },
   "file_extension": ".py",
   "mimetype": "text/x-python",
   "name": "python",
   "nbconvert_exporter": "python",
   "pygments_lexer": "ipython3",
   "version": "3.8.10"
  }
 },
 "nbformat": 4,
 "nbformat_minor": 5
}
