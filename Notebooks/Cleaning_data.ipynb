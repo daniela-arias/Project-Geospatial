{
 "cells": [
  {
   "cell_type": "markdown",
   "id": "527d5ee5",
   "metadata": {},
   "source": [
    "## Importamos las librerías a utilizar"
   ]
  },
  {
   "cell_type": "code",
   "execution_count": 29,
   "id": "fe1d48f5",
   "metadata": {},
   "outputs": [],
   "source": [
    "import sys\n",
    "sys.path.append('../')\n",
    "import requests\n",
    "import json\n",
    "from dotenv import load_dotenv\n",
    "import os\n",
    "import pandas as pd\n",
    "from functools import reduce\n",
    "import operator\n",
    "import re"
   ]
  },
  {
   "cell_type": "code",
   "execution_count": 30,
   "id": "64b4f586",
   "metadata": {},
   "outputs": [
    {
     "name": "stdout",
     "output_type": "stream",
     "text": [
      "/Users/danielaarias/Ironhack/Taller_Geo/Notebooks\r\n"
     ]
    }
   ],
   "source": [
    "!pwd"
   ]
  },
  {
   "cell_type": "code",
   "execution_count": 31,
   "id": "534ce365",
   "metadata": {},
   "outputs": [],
   "source": [
    "import src.cleaning_functions as fc"
   ]
  },
  {
   "cell_type": "markdown",
   "id": "c77a73a8",
   "metadata": {},
   "source": [
    "## Me conecto con Foursquare y hago las llamadas a la API "
   ]
  },
  {
   "cell_type": "code",
   "execution_count": 32,
   "id": "d345c378",
   "metadata": {},
   "outputs": [
    {
     "data": {
      "text/plain": [
       "True"
      ]
     },
     "execution_count": 32,
     "metadata": {},
     "output_type": "execute_result"
    }
   ],
   "source": [
    "load_dotenv()"
   ]
  },
  {
   "cell_type": "code",
   "execution_count": 33,
   "id": "d3c63929",
   "metadata": {},
   "outputs": [],
   "source": [
    "client_id = os.getenv(\"tok1\")\n",
    "client_secret = os.getenv(\"tok2\")"
   ]
  },
  {
   "cell_type": "code",
   "execution_count": 34,
   "id": "b0ca5a4c",
   "metadata": {},
   "outputs": [],
   "source": [
    "url = \"https://favqs.com/api/session\"\n",
    "url_query = 'https://api.foursquare.com/v2/venues/search'\n",
    "url_recomendados = 'https://api.foursquare.com/v2/venues/explore'"
   ]
  },
  {
   "cell_type": "markdown",
   "id": "0945b274",
   "metadata": {},
   "source": [
    "## Hemos elegimos puntos neurálgicos de las ciudades seleccionadas"
   ]
  },
  {
   "cell_type": "code",
   "execution_count": 35,
   "id": "a9c3a128",
   "metadata": {},
   "outputs": [],
   "source": [
    "madrid_coord = {'type': 'Point', 'coordinates': [40.42955,-3.6793]}\n",
    "dublin_coord = {'type': 'Point', 'coordinates': [53.34919,-6.2606]}, \n",
    "bucarest_coord = {'type': 'Point', 'coordinates': [44.42724,26.09208]}"
   ]
  },
  {
   "cell_type": "markdown",
   "id": "fc715a77",
   "metadata": {},
   "source": [
    "## Hacemos las requests de cada una de las variable elegidas y las guardamos como Json"
   ]
  },
  {
   "cell_type": "code",
   "execution_count": 36,
   "id": "b4cf1fce",
   "metadata": {},
   "outputs": [],
   "source": [
    "parametros = {\n",
    "    \"client_id\": client_id,\n",
    "    \"client_secret\": client_secret,\n",
    "    \"v\": \"20180323\",\n",
    "    \"ll\": f\"{40.42955},{-3.6793}\",\n",
    "    \"query\": \"nightclub\"\n",
    "}"
   ]
  },
  {
   "cell_type": "code",
   "execution_count": 37,
   "id": "1c02473a",
   "metadata": {},
   "outputs": [],
   "source": [
    "resp = requests.get(url_query, params = parametros).json()"
   ]
  },
  {
   "cell_type": "code",
   "execution_count": 38,
   "id": "87fc06b4",
   "metadata": {},
   "outputs": [
    {
     "data": {
      "text/plain": [
       "dict"
      ]
     },
     "execution_count": 38,
     "metadata": {},
     "output_type": "execute_result"
    }
   ],
   "source": [
    "type(resp)"
   ]
  },
  {
   "cell_type": "code",
   "execution_count": 39,
   "id": "34e62a7f",
   "metadata": {},
   "outputs": [],
   "source": [
    "#resp"
   ]
  },
  {
   "cell_type": "code",
   "execution_count": 40,
   "id": "b6ea12d4",
   "metadata": {},
   "outputs": [],
   "source": [
    "import pyjsonviewer"
   ]
  },
  {
   "cell_type": "code",
   "execution_count": null,
   "id": "2aa02d1d",
   "metadata": {},
   "outputs": [],
   "source": [
    "#pyjsonviewer.view_data(json_data=resp)"
   ]
  },
  {
   "cell_type": "code",
   "execution_count": null,
   "id": "36016d82",
   "metadata": {},
   "outputs": [],
   "source": [
    "import json\n",
    "with open('data.json', 'w') as f:\n",
    "    json.dump(resp, f)"
   ]
  },
  {
   "cell_type": "code",
   "execution_count": null,
   "id": "a6ff3926",
   "metadata": {},
   "outputs": [],
   "source": [
    "#pyjsonviewer.view_data(json_file=\"data.json\")"
   ]
  },
  {
   "cell_type": "code",
   "execution_count": null,
   "id": "a44a7b71",
   "metadata": {},
   "outputs": [],
   "source": [
    "resp[\"response\"].keys()"
   ]
  },
  {
   "cell_type": "code",
   "execution_count": null,
   "id": "703a7afd",
   "metadata": {},
   "outputs": [],
   "source": [
    "resp[\"response\"][\"venues\"][0]"
   ]
  },
  {
   "cell_type": "code",
   "execution_count": null,
   "id": "82977c7a",
   "metadata": {},
   "outputs": [],
   "source": [
    "resp[\"response\"][\"venues\"][0].keys()"
   ]
  },
  {
   "cell_type": "code",
   "execution_count": 25,
   "id": "4ccce584",
   "metadata": {},
   "outputs": [],
   "source": [
    "def getFromDict(diccionario,mapa):\n",
    "    return reduce(operator.getitem,mapa,diccionario)"
   ]
  },
  {
   "cell_type": "code",
   "execution_count": 41,
   "id": "8348f2e0",
   "metadata": {},
   "outputs": [],
   "source": [
    "map_ = [\"location\", \"lat\"]"
   ]
  },
  {
   "cell_type": "code",
   "execution_count": 42,
   "id": "f92d89ae",
   "metadata": {},
   "outputs": [
    {
     "data": {
      "text/plain": [
       "40.43912145342489"
      ]
     },
     "execution_count": 42,
     "metadata": {},
     "output_type": "execute_result"
    }
   ],
   "source": [
    "getFromDict(resp[\"response\"][\"venues\"][0], map_)"
   ]
  },
  {
   "cell_type": "code",
   "execution_count": null,
   "id": "6eb4eeea",
   "metadata": {},
   "outputs": [],
   "source": [
    "def type_point(lista):\n",
    "    return {\"type\":\"Point\", \"coordinates\": lista}"
   ]
  },
  {
   "cell_type": "code",
   "execution_count": null,
   "id": "07cbafb3",
   "metadata": {},
   "outputs": [],
   "source": [
    "Madrid_nightclub_Dict = resp[\"response\"][\"venues\"]"
   ]
  },
  {
   "cell_type": "code",
   "execution_count": null,
   "id": "67f273e4",
   "metadata": {},
   "outputs": [],
   "source": [
    "type(Madrid_nightclub_Dict)"
   ]
  },
  {
   "cell_type": "code",
   "execution_count": null,
   "id": "e75ed670",
   "metadata": {},
   "outputs": [],
   "source": [
    "todo = {\"nombre\": [\"name\"], \"dirección\": [\"location\", \"address\"], \"latitud\": [\"location\", \"lat\"], \"longitud\": [\"location\", \"lng\"]}"
   ]
  },
  {
   "cell_type": "code",
   "execution_count": null,
   "id": "6e4b7708",
   "metadata": {},
   "outputs": [],
   "source": [
    "def extraetodo(json):\n",
    "    todo = {\"nombre\": [\"name\"], \"latitud\": [\"location\", \"lat\"], \"longitud\": [\"location\", \"lng\"]} \n",
    "    total = []\n",
    "    for elemento in json:\n",
    "        libre = {key: getFromDict(elemento, value) for key,value in todo.items()}\n",
    "        libre[\"location\"] = type_point([libre[\"latitud\"], libre[\"longitud\"]])\n",
    "        total.append(libre)\n",
    "    return total"
   ]
  },
  {
   "cell_type": "code",
   "execution_count": null,
   "id": "772b86f6",
   "metadata": {},
   "outputs": [],
   "source": [
    "nightclub_Madrid = extraetodo(Madrid_nightclub_Dict) "
   ]
  },
  {
   "cell_type": "code",
   "execution_count": null,
   "id": "98a390ff",
   "metadata": {},
   "outputs": [],
   "source": [
    "data_nightclub_M = pd.DataFrame(nightclub_Madrid)"
   ]
  },
  {
   "cell_type": "code",
   "execution_count": null,
   "id": "5b2b2d0b",
   "metadata": {},
   "outputs": [],
   "source": [
    "data_nightclub_M.head()"
   ]
  },
  {
   "cell_type": "markdown",
   "id": "b8d9ba43",
   "metadata": {},
   "source": [
    "# Generados DataFrames de todas las variables para cada ciudad"
   ]
  },
  {
   "cell_type": "code",
   "execution_count": null,
   "id": "082f2133",
   "metadata": {},
   "outputs": [],
   "source": [
    "#data_Starb_M"
   ]
  },
  {
   "cell_type": "code",
   "execution_count": null,
   "id": "94e89d49",
   "metadata": {},
   "outputs": [],
   "source": [
    "#data_Starb_D"
   ]
  },
  {
   "cell_type": "code",
   "execution_count": null,
   "id": "1675c89d",
   "metadata": {},
   "outputs": [],
   "source": [
    "#data_Starb_B"
   ]
  },
  {
   "cell_type": "code",
   "execution_count": null,
   "id": "81609a46",
   "metadata": {},
   "outputs": [],
   "source": [
    "import json\n",
    "with open (\"M_nightclub.json\",\"w\") as f: # creamos un archivo vacío en el que vamos a escribir\n",
    "    json.dump(nightclub_Madrid,f) # cargamos nuestra lista de diccionarios en ese archivo"
   ]
  },
  {
   "cell_type": "code",
   "execution_count": 44,
   "id": "a5dd79e6",
   "metadata": {},
   "outputs": [],
   "source": [
    "#type(f)"
   ]
  }
 ],
 "metadata": {
  "kernelspec": {
   "display_name": "ironhack",
   "language": "python",
   "name": "ironhack"
  },
  "language_info": {
   "codemirror_mode": {
    "name": "ipython",
    "version": 3
   },
   "file_extension": ".py",
   "mimetype": "text/x-python",
   "name": "python",
   "nbconvert_exporter": "python",
   "pygments_lexer": "ipython3",
   "version": "3.8.10"
  }
 },
 "nbformat": 4,
 "nbformat_minor": 5
}
