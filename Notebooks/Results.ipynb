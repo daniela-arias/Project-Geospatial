{
 "cells": [
  {
   "cell_type": "code",
   "execution_count": 17,
   "id": "0063e494",
   "metadata": {},
   "outputs": [],
   "source": [
    "import sys\n",
    "sys.path.append('../')\n",
    "import pandas as pd\n",
    "import geopandas as gpd\n",
    "from keplergl import KeplerGl"
   ]
  },
  {
   "cell_type": "code",
   "execution_count": 18,
   "id": "81ded970",
   "metadata": {},
   "outputs": [
    {
     "name": "stdout",
     "output_type": "stream",
     "text": [
      "/Users/danielaarias/Ironhack/Taller_Geo/Notebooks\r\n"
     ]
    }
   ],
   "source": [
    "!pwd"
   ]
  },
  {
   "cell_type": "code",
   "execution_count": 19,
   "id": "c5caf216",
   "metadata": {},
   "outputs": [],
   "source": [
    "df = pd.read_csv(\"../Data/Ciudades_ready.csv\")"
   ]
  },
  {
   "cell_type": "code",
   "execution_count": 20,
   "id": "64904163",
   "metadata": {},
   "outputs": [
    {
     "name": "stdout",
     "output_type": "stream",
     "text": [
      "User Guide: https://docs.kepler.gl/docs/keplergl-jupyter\n"
     ]
    }
   ],
   "source": [
    "map_1= KeplerGl(height=700, weight = 500, data={'ciudades':df})"
   ]
  },
  {
   "cell_type": "code",
   "execution_count": 21,
   "id": "cd293852",
   "metadata": {},
   "outputs": [
    {
     "data": {
      "application/vnd.jupyter.widget-view+json": {
       "model_id": "39c876d14f144d838e0d1b620183f7d0",
       "version_major": 2,
       "version_minor": 0
      },
      "text/plain": [
       "KeplerGl(data={'ciudades':      ciudad     Totales\n",
       "0  Bucarest  340.355169\n",
       "1    Dublin  159.879332\n",
       "2    Madrid…"
      ]
     },
     "metadata": {},
     "output_type": "display_data"
    }
   ],
   "source": [
    "map_1"
   ]
  },
  {
   "cell_type": "code",
   "execution_count": 6,
   "id": "a1333689",
   "metadata": {},
   "outputs": [],
   "source": [
    "with open('../Data/Ciudades_ready.csv', 'r') as f:\n",
    "    Ciudades_ready = f.read()\n",
    "map_1.add_data(data=Ciudades_ready, name='data_2')"
   ]
  },
  {
   "cell_type": "code",
   "execution_count": null,
   "id": "de722f9e",
   "metadata": {},
   "outputs": [],
   "source": []
  }
 ],
 "metadata": {
  "kernelspec": {
   "display_name": "maps",
   "language": "python",
   "name": "maps"
  },
  "language_info": {
   "codemirror_mode": {
    "name": "ipython",
    "version": 3
   },
   "file_extension": ".py",
   "mimetype": "text/x-python",
   "name": "python",
   "nbconvert_exporter": "python",
   "pygments_lexer": "ipython3",
   "version": "3.8.5"
  }
 },
 "nbformat": 4,
 "nbformat_minor": 5
}
