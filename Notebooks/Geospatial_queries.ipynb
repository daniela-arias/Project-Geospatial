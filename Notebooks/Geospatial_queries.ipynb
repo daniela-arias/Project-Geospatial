{
 "cells": [
  {
   "cell_type": "markdown",
   "id": "bc4fa843",
   "metadata": {},
   "source": [
    "## Librerias que utilizaremos "
   ]
  },
  {
   "cell_type": "code",
   "execution_count": 13,
   "id": "fab4c4ae",
   "metadata": {},
   "outputs": [],
   "source": [
    "from pymongo import MongoClient\n",
    "from pymongo import GEOSPHERE"
   ]
  },
  {
   "cell_type": "markdown",
   "id": "79a277ee",
   "metadata": {},
   "source": [
    "## Conectamos con Mongo DB"
   ]
  },
  {
   "cell_type": "code",
   "execution_count": 2,
   "id": "8cf88f47",
   "metadata": {},
   "outputs": [
    {
     "data": {
      "text/plain": [
       "Database(MongoClient(host=['localhost:27017'], document_class=dict, tz_aware=False, connect=True), 'ironhack')"
      ]
     },
     "execution_count": 2,
     "metadata": {},
     "output_type": "execute_result"
    }
   ],
   "source": [
    "client = MongoClient(\"localhost:27017\")\n",
    "db = client.get_database(\"ironhack\")\n",
    "db"
   ]
  },
  {
   "cell_type": "code",
   "execution_count": 3,
   "id": "a517c1d8",
   "metadata": {},
   "outputs": [
    {
     "data": {
      "text/plain": [
       "['Ironhack', 'Taller_Geo', 'admin', 'config', 'local']"
      ]
     },
     "execution_count": 3,
     "metadata": {},
     "output_type": "execute_result"
    }
   ],
   "source": [
    "client.list_database_names()"
   ]
  },
  {
   "cell_type": "markdown",
   "id": "224fcb91",
   "metadata": {},
   "source": [
    "## Obtenemos la Base de datos con la que trabajaremos"
   ]
  },
  {
   "cell_type": "code",
   "execution_count": 4,
   "id": "5946d322",
   "metadata": {},
   "outputs": [],
   "source": [
    "db = client.get_database(\"Taller_Geo\")"
   ]
  },
  {
   "cell_type": "code",
   "execution_count": 5,
   "id": "cb732ec1",
   "metadata": {},
   "outputs": [
    {
     "data": {
      "text/plain": [
       "Database(MongoClient(host=['localhost:27017'], document_class=dict, tz_aware=False, connect=True), 'Taller_Geo')"
      ]
     },
     "execution_count": 5,
     "metadata": {},
     "output_type": "execute_result"
    }
   ],
   "source": [
    "db"
   ]
  },
  {
   "cell_type": "code",
   "execution_count": 6,
   "id": "436119df",
   "metadata": {},
   "outputs": [
    {
     "data": {
      "text/plain": [
       "['Bucarest', 'Dublin', 'Madrid']"
      ]
     },
     "execution_count": 6,
     "metadata": {},
     "output_type": "execute_result"
    }
   ],
   "source": [
    "db.list_collection_names()"
   ]
  },
  {
   "cell_type": "code",
   "execution_count": 7,
   "id": "ce95e235",
   "metadata": {},
   "outputs": [],
   "source": [
    "B = db.get_collection(\"Bucarest\")"
   ]
  },
  {
   "cell_type": "code",
   "execution_count": 8,
   "id": "490bb952",
   "metadata": {},
   "outputs": [
    {
     "data": {
      "text/plain": [
       "Collection(Database(MongoClient(host=['localhost:27017'], document_class=dict, tz_aware=False, connect=True), 'Taller_Geo'), 'Bucarest')"
      ]
     },
     "execution_count": 8,
     "metadata": {},
     "output_type": "execute_result"
    }
   ],
   "source": [
    "B"
   ]
  },
  {
   "cell_type": "code",
   "execution_count": 9,
   "id": "d09f1803",
   "metadata": {},
   "outputs": [],
   "source": [
    "M = db.get_collection(\"Madrid\")"
   ]
  },
  {
   "cell_type": "code",
   "execution_count": 10,
   "id": "5a44ade9",
   "metadata": {},
   "outputs": [
    {
     "data": {
      "text/plain": [
       "Collection(Database(MongoClient(host=['localhost:27017'], document_class=dict, tz_aware=False, connect=True), 'Taller_Geo'), 'Madrid')"
      ]
     },
     "execution_count": 10,
     "metadata": {},
     "output_type": "execute_result"
    }
   ],
   "source": [
    "M"
   ]
  },
  {
   "cell_type": "code",
   "execution_count": 11,
   "id": "2c12c762",
   "metadata": {},
   "outputs": [],
   "source": [
    "D = db.get_collection(\"Dublin\")"
   ]
  },
  {
   "cell_type": "code",
   "execution_count": 12,
   "id": "10062caf",
   "metadata": {},
   "outputs": [
    {
     "data": {
      "text/plain": [
       "Collection(Database(MongoClient(host=['localhost:27017'], document_class=dict, tz_aware=False, connect=True), 'Taller_Geo'), 'Dublin')"
      ]
     },
     "execution_count": 12,
     "metadata": {},
     "output_type": "execute_result"
    }
   ],
   "source": [
    "D"
   ]
  },
  {
   "cell_type": "markdown",
   "id": "e88913d5",
   "metadata": {},
   "source": [
    "## Creamos los índices para cada colección"
   ]
  },
  {
   "cell_type": "code",
   "execution_count": 14,
   "id": "cb40f79f",
   "metadata": {},
   "outputs": [
    {
     "data": {
      "text/plain": [
       "'location_2dsphere'"
      ]
     },
     "execution_count": 14,
     "metadata": {},
     "output_type": "execute_result"
    }
   ],
   "source": [
    "db.Bucarest.create_index([(\"location\", GEOSPHERE)])"
   ]
  },
  {
   "cell_type": "code",
   "execution_count": 15,
   "id": "c6be9ecd",
   "metadata": {},
   "outputs": [
    {
     "data": {
      "text/plain": [
       "'location_2dsphere'"
      ]
     },
     "execution_count": 15,
     "metadata": {},
     "output_type": "execute_result"
    }
   ],
   "source": [
    "db.Madrid.create_index([(\"location\", GEOSPHERE)])"
   ]
  },
  {
   "cell_type": "code",
   "execution_count": 16,
   "id": "202838b6",
   "metadata": {},
   "outputs": [
    {
     "data": {
      "text/plain": [
       "'location_2dsphere'"
      ]
     },
     "execution_count": 16,
     "metadata": {},
     "output_type": "execute_result"
    }
   ],
   "source": [
    "db.Dublin.create_index([(\"location\", GEOSPHERE)])"
   ]
  },
  {
   "cell_type": "code",
   "execution_count": 20,
   "id": "ffef564e",
   "metadata": {},
   "outputs": [],
   "source": [
    "#db.Dublin.find_one() #comprobamos que las 3 colecciones nos brindan información correctamente"
   ]
  },
  {
   "cell_type": "markdown",
   "id": "6d49c579",
   "metadata": {},
   "source": [
    "## Utilizamos Near para ver la cercanía de los datos a nuestro punto central"
   ]
  },
  {
   "cell_type": "code",
   "execution_count": 107,
   "id": "b2a1d61d",
   "metadata": {},
   "outputs": [],
   "source": [
    "#Estos son mis puntos centrales:\n",
    "madrid_coord = [40.42955,-3.6793]\n",
    "dublin_coord = [53.34919,-6.2606] \n",
    "bucarest_coord = [44.42724,26.09208]"
   ]
  },
  {
   "cell_type": "code",
   "execution_count": 108,
   "id": "1da8258e",
   "metadata": {},
   "outputs": [],
   "source": [
    "#Esta es la distancia máxima que quiero \n",
    "metros = 5000"
   ]
  },
  {
   "cell_type": "code",
   "execution_count": 109,
   "id": "a0eb8c3f",
   "metadata": {},
   "outputs": [],
   "source": [
    "def type_point(lista):\n",
    "    return {\"type\":\"Point\", \"coordinates\": lista}"
   ]
  },
  {
   "cell_type": "code",
   "execution_count": 110,
   "id": "ca3fdc4b",
   "metadata": {},
   "outputs": [],
   "source": [
    "coord_tp_M = type_point(madrid_coord)\n",
    "coord_tp_D = type_point(dublin_coord)\n",
    "coord_tp_B = type_point(bucarest_coord)"
   ]
  },
  {
   "cell_type": "code",
   "execution_count": 111,
   "id": "701b28a0",
   "metadata": {},
   "outputs": [
    {
     "data": {
      "text/plain": [
       "{'type': 'Point', 'coordinates': [40.42955, -3.6793]}"
      ]
     },
     "execution_count": 111,
     "metadata": {},
     "output_type": "execute_result"
    }
   ],
   "source": [
    "coord_tp_M "
   ]
  },
  {
   "cell_type": "code",
   "execution_count": 112,
   "id": "d10d596b",
   "metadata": {},
   "outputs": [],
   "source": [
    "query_M = {\"location\": {\"$near\": {\"$geometry\": coord_tp_M, \"$maxDistance\": metros}}}"
   ]
  },
  {
   "cell_type": "code",
   "execution_count": 113,
   "id": "24c822ec",
   "metadata": {},
   "outputs": [
    {
     "data": {
      "text/plain": [
       "{'location': {'$near': {'$geometry': {'type': 'Point',\n",
       "    'coordinates': [40.42955, -3.6793]},\n",
       "   '$maxDistance': 5000}}}"
      ]
     },
     "execution_count": 113,
     "metadata": {},
     "output_type": "execute_result"
    }
   ],
   "source": [
    "query_M"
   ]
  },
  {
   "cell_type": "code",
   "execution_count": 114,
   "id": "e9302abb",
   "metadata": {},
   "outputs": [],
   "source": [
    "resultado_M = list(M.find(query_M))\n",
    "#resultado_M"
   ]
  },
  {
   "cell_type": "code",
   "execution_count": 115,
   "id": "e3c8ac71",
   "metadata": {},
   "outputs": [],
   "source": [
    "query_D = {\"location\": {\"$near\": {\"$geometry\": coord_tp_D, \"$maxDistance\": metros}}}"
   ]
  },
  {
   "cell_type": "code",
   "execution_count": 116,
   "id": "081a3436",
   "metadata": {},
   "outputs": [
    {
     "data": {
      "text/plain": [
       "{'location': {'$near': {'$geometry': {'type': 'Point',\n",
       "    'coordinates': [53.34919, -6.2606]},\n",
       "   '$maxDistance': 5000}}}"
      ]
     },
     "execution_count": 116,
     "metadata": {},
     "output_type": "execute_result"
    }
   ],
   "source": [
    "query_D"
   ]
  },
  {
   "cell_type": "code",
   "execution_count": 117,
   "id": "b8ad7f21",
   "metadata": {},
   "outputs": [],
   "source": [
    "resultado_D = list(D.find(query_D))\n",
    "#resultado_D"
   ]
  },
  {
   "cell_type": "code",
   "execution_count": 118,
   "id": "d19d037f",
   "metadata": {},
   "outputs": [
    {
     "data": {
      "text/plain": [
       "{'type': 'Point', 'coordinates': [44.42724, 26.09208]}"
      ]
     },
     "execution_count": 118,
     "metadata": {},
     "output_type": "execute_result"
    }
   ],
   "source": [
    "coord_tp_B"
   ]
  },
  {
   "cell_type": "code",
   "execution_count": 119,
   "id": "231f20fa",
   "metadata": {},
   "outputs": [],
   "source": [
    "query_B = {\"location\": {\"$near\": {\"$geometry\": coord_tp_B, \"$maxDistance\": metros}}}"
   ]
  },
  {
   "cell_type": "code",
   "execution_count": 121,
   "id": "479a2e29",
   "metadata": {},
   "outputs": [],
   "source": [
    "resultado_B = list(B.find(query_B))\n",
    "#resultado_B"
   ]
  },
  {
   "cell_type": "code",
   "execution_count": 123,
   "id": "5d9c5417",
   "metadata": {},
   "outputs": [
    {
     "data": {
      "text/plain": [
       "{'_id': ObjectId('618fac476bd838c298f8a588'),\n",
       " 'nombre': 'bella dog',\n",
       " 'latitud': 44.429934133909114,\n",
       " 'longitud': 26.09415232523072,\n",
       " 'location': {'type': 'Point',\n",
       "  'coordinates': [44.429934133909114, 26.09415232523072]}}"
      ]
     },
     "execution_count": 123,
     "metadata": {},
     "output_type": "execute_result"
    }
   ],
   "source": [
    "resultado_B[0]"
   ]
  },
  {
   "cell_type": "code",
   "execution_count": null,
   "id": "bd84a219",
   "metadata": {},
   "outputs": [],
   "source": [
    "total = [] # lista para resultado final\n",
    "for libreria in libres_cerca: #iteramos por la lista entera de librerías de antes \n",
    "    point = type_point([libreria[\"longitud\"],libreria[\"latitud\"]]) #preparamos tipo point de cada una \n",
    "    query = {\"geometry\": {\"$geoIntersects\": {\"$geometry\": point}}} #hacemos la query para buscar el barrio \n",
    "    resultado = dis.find_one(query) # hacemos la query \n",
    "    libre = {libreria[\"nombre\"]:resultado[\"properties\"][\"nombre\"]} # nombre de la librería y nombre del distrito de la query\n",
    "    total.append(libre)"
   ]
  }
 ],
 "metadata": {
  "kernelspec": {
   "display_name": "ironhack",
   "language": "python",
   "name": "ironhack"
  },
  "language_info": {
   "codemirror_mode": {
    "name": "ipython",
    "version": 3
   },
   "file_extension": ".py",
   "mimetype": "text/x-python",
   "name": "python",
   "nbconvert_exporter": "python",
   "pygments_lexer": "ipython3",
   "version": "3.8.10"
  }
 },
 "nbformat": 4,
 "nbformat_minor": 5
}
