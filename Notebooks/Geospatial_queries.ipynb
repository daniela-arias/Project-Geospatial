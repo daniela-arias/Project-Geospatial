{
 "cells": [
  {
   "cell_type": "markdown",
   "id": "0c0da87b",
   "metadata": {},
   "source": [
    "## Librerias que utilizaremos "
   ]
  },
  {
   "cell_type": "code",
   "execution_count": 343,
   "id": "e983635e",
   "metadata": {},
   "outputs": [],
   "source": [
    "from pymongo import MongoClient\n",
    "from pymongo import GEOSPHERE\n",
    "import re\n",
    "import geopandas as gpd\n",
    "from cartoframes.viz import Map, Layer, popup_element\n",
    "from scipy.spatial import distance\n",
    "import pandas as pd"
   ]
  },
  {
   "cell_type": "markdown",
   "id": "67d00067",
   "metadata": {},
   "source": [
    "## Conectamos con Mongo DB"
   ]
  },
  {
   "cell_type": "code",
   "execution_count": 2,
   "id": "85f9620f",
   "metadata": {},
   "outputs": [
    {
     "data": {
      "text/plain": [
       "Database(MongoClient(host=['localhost:27017'], document_class=dict, tz_aware=False, connect=True), 'ironhack')"
      ]
     },
     "execution_count": 2,
     "metadata": {},
     "output_type": "execute_result"
    }
   ],
   "source": [
    "client = MongoClient(\"localhost:27017\")\n",
    "db = client.get_database(\"ironhack\")\n",
    "db"
   ]
  },
  {
   "cell_type": "code",
   "execution_count": 3,
   "id": "c3af3327",
   "metadata": {},
   "outputs": [
    {
     "data": {
      "text/plain": [
       "['Ironhack', 'Taller_Geo', 'admin', 'config', 'local']"
      ]
     },
     "execution_count": 3,
     "metadata": {},
     "output_type": "execute_result"
    }
   ],
   "source": [
    "client.list_database_names()"
   ]
  },
  {
   "cell_type": "markdown",
   "id": "6f9862b4",
   "metadata": {},
   "source": [
    "## Obtenemos la Base de datos con la que trabajaremos"
   ]
  },
  {
   "cell_type": "code",
   "execution_count": 4,
   "id": "90d364ee",
   "metadata": {},
   "outputs": [],
   "source": [
    "db = client.get_database(\"Taller_Geo\")"
   ]
  },
  {
   "cell_type": "code",
   "execution_count": 5,
   "id": "16f75a40",
   "metadata": {},
   "outputs": [
    {
     "data": {
      "text/plain": [
       "Database(MongoClient(host=['localhost:27017'], document_class=dict, tz_aware=False, connect=True), 'Taller_Geo')"
      ]
     },
     "execution_count": 5,
     "metadata": {},
     "output_type": "execute_result"
    }
   ],
   "source": [
    "db"
   ]
  },
  {
   "cell_type": "code",
   "execution_count": 6,
   "id": "ac4d0860",
   "metadata": {},
   "outputs": [
    {
     "data": {
      "text/plain": [
       "['Bucarest', 'Dublin', 'Madrid']"
      ]
     },
     "execution_count": 6,
     "metadata": {},
     "output_type": "execute_result"
    }
   ],
   "source": [
    "db.list_collection_names()"
   ]
  },
  {
   "cell_type": "code",
   "execution_count": 7,
   "id": "1f731935",
   "metadata": {},
   "outputs": [],
   "source": [
    "B = db.get_collection(\"Bucarest\")"
   ]
  },
  {
   "cell_type": "code",
   "execution_count": 8,
   "id": "84193361",
   "metadata": {},
   "outputs": [
    {
     "data": {
      "text/plain": [
       "Collection(Database(MongoClient(host=['localhost:27017'], document_class=dict, tz_aware=False, connect=True), 'Taller_Geo'), 'Bucarest')"
      ]
     },
     "execution_count": 8,
     "metadata": {},
     "output_type": "execute_result"
    }
   ],
   "source": [
    "B"
   ]
  },
  {
   "cell_type": "code",
   "execution_count": 9,
   "id": "f89d4aab",
   "metadata": {},
   "outputs": [],
   "source": [
    "M = db.get_collection(\"Madrid\")"
   ]
  },
  {
   "cell_type": "code",
   "execution_count": 10,
   "id": "b83e4b5e",
   "metadata": {},
   "outputs": [
    {
     "data": {
      "text/plain": [
       "Collection(Database(MongoClient(host=['localhost:27017'], document_class=dict, tz_aware=False, connect=True), 'Taller_Geo'), 'Madrid')"
      ]
     },
     "execution_count": 10,
     "metadata": {},
     "output_type": "execute_result"
    }
   ],
   "source": [
    "M"
   ]
  },
  {
   "cell_type": "code",
   "execution_count": 11,
   "id": "31dfc156",
   "metadata": {},
   "outputs": [],
   "source": [
    "D = db.get_collection(\"Dublin\")"
   ]
  },
  {
   "cell_type": "code",
   "execution_count": 12,
   "id": "8503cca3",
   "metadata": {},
   "outputs": [
    {
     "data": {
      "text/plain": [
       "Collection(Database(MongoClient(host=['localhost:27017'], document_class=dict, tz_aware=False, connect=True), 'Taller_Geo'), 'Dublin')"
      ]
     },
     "execution_count": 12,
     "metadata": {},
     "output_type": "execute_result"
    }
   ],
   "source": [
    "D"
   ]
  },
  {
   "cell_type": "markdown",
   "id": "2e7e0617",
   "metadata": {},
   "source": [
    "## Creamos los índices para cada colección"
   ]
  },
  {
   "cell_type": "code",
   "execution_count": 14,
   "id": "55674d5c",
   "metadata": {},
   "outputs": [
    {
     "data": {
      "text/plain": [
       "'location_2dsphere'"
      ]
     },
     "execution_count": 14,
     "metadata": {},
     "output_type": "execute_result"
    }
   ],
   "source": [
    "db.Bucarest.create_index([(\"location\", GEOSPHERE)])"
   ]
  },
  {
   "cell_type": "code",
   "execution_count": 15,
   "id": "e42e72cc",
   "metadata": {},
   "outputs": [
    {
     "data": {
      "text/plain": [
       "'location_2dsphere'"
      ]
     },
     "execution_count": 15,
     "metadata": {},
     "output_type": "execute_result"
    }
   ],
   "source": [
    "db.Madrid.create_index([(\"location\", GEOSPHERE)])"
   ]
  },
  {
   "cell_type": "code",
   "execution_count": 16,
   "id": "f677ddb0",
   "metadata": {},
   "outputs": [
    {
     "data": {
      "text/plain": [
       "'location_2dsphere'"
      ]
     },
     "execution_count": 16,
     "metadata": {},
     "output_type": "execute_result"
    }
   ],
   "source": [
    "db.Dublin.create_index([(\"location\", GEOSPHERE)])"
   ]
  },
  {
   "cell_type": "code",
   "execution_count": 20,
   "id": "9460b609",
   "metadata": {},
   "outputs": [],
   "source": [
    "#db.Dublin.find_one() #comprobamos que las 3 colecciones nos brindan información correctamente"
   ]
  },
  {
   "cell_type": "markdown",
   "id": "259dee80",
   "metadata": {},
   "source": [
    "## Utilizamos Near para ver la cercanía de los datos a nuestro punto central"
   ]
  },
  {
   "cell_type": "code",
   "execution_count": 169,
   "id": "a40e6008",
   "metadata": {},
   "outputs": [],
   "source": [
    "#Estos son mis puntos centrales:\n",
    "madrid_coord = [40.42955,-3.6793]\n",
    "dublin_coord = [53.34919,-6.2606] \n",
    "bucarest_coord = [44.42724,26.09208]"
   ]
  },
  {
   "cell_type": "code",
   "execution_count": 170,
   "id": "a0dac5a8",
   "metadata": {},
   "outputs": [],
   "source": [
    "#Esta es la distancia máxima que quiero: \n",
    "metros = 5000"
   ]
  },
  {
   "cell_type": "code",
   "execution_count": 171,
   "id": "e8f1fb42",
   "metadata": {},
   "outputs": [],
   "source": [
    "def type_point(lista):\n",
    "    return {\"type\":\"Point\", \"coordinates\": lista}"
   ]
  },
  {
   "cell_type": "code",
   "execution_count": 172,
   "id": "d7e74cee",
   "metadata": {},
   "outputs": [],
   "source": [
    "coord_tp_M = type_point(madrid_coord)\n",
    "coord_tp_D = type_point(dublin_coord)\n",
    "coord_tp_B = type_point(bucarest_coord)"
   ]
  },
  {
   "cell_type": "code",
   "execution_count": 173,
   "id": "68531844",
   "metadata": {},
   "outputs": [
    {
     "data": {
      "text/plain": [
       "{'type': 'Point', 'coordinates': [40.42955, -3.6793]}"
      ]
     },
     "execution_count": 173,
     "metadata": {},
     "output_type": "execute_result"
    }
   ],
   "source": [
    "coord_tp_M "
   ]
  },
  {
   "cell_type": "code",
   "execution_count": 174,
   "id": "da239716",
   "metadata": {},
   "outputs": [],
   "source": [
    "query_M = {\"location\": {\"$near\": {\"$geometry\": coord_tp_M, \"$maxDistance\": metros}}}"
   ]
  },
  {
   "cell_type": "code",
   "execution_count": 175,
   "id": "a255fb63",
   "metadata": {},
   "outputs": [
    {
     "data": {
      "text/plain": [
       "{'location': {'$near': {'$geometry': {'type': 'Point',\n",
       "    'coordinates': [40.42955, -3.6793]},\n",
       "   '$maxDistance': 5000}}}"
      ]
     },
     "execution_count": 175,
     "metadata": {},
     "output_type": "execute_result"
    }
   ],
   "source": [
    "query_M"
   ]
  },
  {
   "cell_type": "code",
   "execution_count": 176,
   "id": "b06cf530",
   "metadata": {},
   "outputs": [],
   "source": [
    "resultado_M = list(M.find(query_M))\n",
    "#resultado_M"
   ]
  },
  {
   "cell_type": "code",
   "execution_count": 177,
   "id": "cb74b774",
   "metadata": {},
   "outputs": [],
   "source": [
    "query_D = {\"location\": {\"$near\": {\"$geometry\": coord_tp_D, \"$maxDistance\": metros}}}"
   ]
  },
  {
   "cell_type": "code",
   "execution_count": 178,
   "id": "cf217cc0",
   "metadata": {},
   "outputs": [
    {
     "data": {
      "text/plain": [
       "{'location': {'$near': {'$geometry': {'type': 'Point',\n",
       "    'coordinates': [53.34919, -6.2606]},\n",
       "   '$maxDistance': 5000}}}"
      ]
     },
     "execution_count": 178,
     "metadata": {},
     "output_type": "execute_result"
    }
   ],
   "source": [
    "query_D"
   ]
  },
  {
   "cell_type": "code",
   "execution_count": 179,
   "id": "6b40be08",
   "metadata": {},
   "outputs": [],
   "source": [
    "resultado_D = list(D.find(query_D))\n",
    "#resultado_D"
   ]
  },
  {
   "cell_type": "code",
   "execution_count": 180,
   "id": "560e94b7",
   "metadata": {},
   "outputs": [
    {
     "data": {
      "text/plain": [
       "{'type': 'Point', 'coordinates': [44.42724, 26.09208]}"
      ]
     },
     "execution_count": 180,
     "metadata": {},
     "output_type": "execute_result"
    }
   ],
   "source": [
    "coord_tp_B"
   ]
  },
  {
   "cell_type": "code",
   "execution_count": 181,
   "id": "fba30880",
   "metadata": {},
   "outputs": [],
   "source": [
    "query_B = {\"location\": {\"$near\": {\"$geometry\": coord_tp_B, \"$maxDistance\": metros}}}"
   ]
  },
  {
   "cell_type": "code",
   "execution_count": 275,
   "id": "2e91ee33",
   "metadata": {},
   "outputs": [],
   "source": [
    "resultado_B = list(B.find(query_B))\n",
    "#resultado_B"
   ]
  },
  {
   "cell_type": "code",
   "execution_count": 183,
   "id": "2cbdff76",
   "metadata": {},
   "outputs": [
    {
     "data": {
      "text/plain": [
       "{'_id': ObjectId('618fac476bd838c298f8a588'),\n",
       " 'nombre': 'bella dog',\n",
       " 'latitud': 44.429934133909114,\n",
       " 'longitud': 26.09415232523072,\n",
       " 'location': {'type': 'Point',\n",
       "  'coordinates': [44.429934133909114, 26.09415232523072]}}"
      ]
     },
     "execution_count": 183,
     "metadata": {},
     "output_type": "execute_result"
    }
   ],
   "source": [
    "resultado_B[0]"
   ]
  },
  {
   "cell_type": "markdown",
   "id": "f4c8a027",
   "metadata": {},
   "source": [
    "## Generamos un DataFrame para cada ciudad y hacemos una primera exploración visual"
   ]
  },
  {
   "cell_type": "code",
   "execution_count": 277,
   "id": "039d3746",
   "metadata": {},
   "outputs": [],
   "source": [
    "df_M = pd.DataFrame(resultado_M)\n",
    "#df_M.head()"
   ]
  },
  {
   "cell_type": "code",
   "execution_count": 225,
   "id": "3316d77b",
   "metadata": {},
   "outputs": [],
   "source": [
    "gdf_M = gpd.GeoDataFrame(df_M, geometry=gpd.points_from_xy(df_M.longitud, df_M.latitud))\n",
    "#gdf_M"
   ]
  },
  {
   "cell_type": "code",
   "execution_count": 283,
   "id": "d3e511dc",
   "metadata": {},
   "outputs": [],
   "source": [
    "#Map(Layer(gdf_M, \"color:purple\", popup_hover=[popup_element(\"nombre\", \"Madrid\")]))"
   ]
  },
  {
   "cell_type": "code",
   "execution_count": 284,
   "id": "6279d303",
   "metadata": {},
   "outputs": [],
   "source": [
    "df_D = pd.DataFrame(resultado_D)\n",
    "#df_D.head(2)"
   ]
  },
  {
   "cell_type": "code",
   "execution_count": 224,
   "id": "bada9dd6",
   "metadata": {},
   "outputs": [],
   "source": [
    "gdf_D = gpd.GeoDataFrame(df_D, geometry=gpd.points_from_xy(df_D.longitud, df_D.latitud))\n",
    "#gdf_D"
   ]
  },
  {
   "cell_type": "code",
   "execution_count": 285,
   "id": "c993d4da",
   "metadata": {},
   "outputs": [],
   "source": [
    "#Map(Layer(gdf_D, \"color:purple\", popup_hover=[popup_element(\"nombre\", \"Madrid\")]))"
   ]
  },
  {
   "cell_type": "code",
   "execution_count": 286,
   "id": "d6e68fb5",
   "metadata": {},
   "outputs": [],
   "source": [
    "df_B = pd.DataFrame(resultado_B)\n",
    "#df_B.head(2)"
   ]
  },
  {
   "cell_type": "code",
   "execution_count": 223,
   "id": "caa5612f",
   "metadata": {},
   "outputs": [],
   "source": [
    "gdf_B = gpd.GeoDataFrame(df_B, geometry=gpd.points_from_xy(df_B.longitud, df_B.latitud))\n",
    "#gdf_B"
   ]
  },
  {
   "cell_type": "code",
   "execution_count": 287,
   "id": "891c30c0",
   "metadata": {},
   "outputs": [],
   "source": [
    "#Map(Layer(gdf_B, \"color:purple\", popup_hover=[popup_element(\"nombre\", \"Madrid\")]))"
   ]
  },
  {
   "cell_type": "markdown",
   "id": "de7b8d1e",
   "metadata": {},
   "source": [
    "## Agrupamos los nombres de los requisitos según categorías"
   ]
  },
  {
   "cell_type": "code",
   "execution_count": 240,
   "id": "9b2e0a44",
   "metadata": {},
   "outputs": [],
   "source": [
    "def limpiar(x):\n",
    "    diccionario = {\"Disco\":re.search(\".*[Nn](ight|IGHT).*\",str(x)),\n",
    "                   \"Airport\":re.search(\".*[Aa](irport|IRPORT).*\",str(x)),\n",
    "                   \"School\":re.search(\".*[Ss](chool|CHOOL).*\",str(x)),\n",
    "                   \"Dog grooming\":re.search(\".*[Dd](og|OG).*\",str(x)),\n",
    "                   \"Starbucks\":re.search(\".*[Ss](tarbucks|TARBUCKS).*\",str(x)),\n",
    "                  }\n",
    "\n",
    "    for key,values in diccionario.items():\n",
    "        if values:\n",
    "            return key\n",
    "    return 'Others'"
   ]
  },
  {
   "cell_type": "code",
   "execution_count": 290,
   "id": "496d89a6",
   "metadata": {},
   "outputs": [],
   "source": [
    "df_M[\"categoria\"] = df_M[\"nombre\"].apply(limpiar)\n",
    "#df_M.head(2)"
   ]
  },
  {
   "cell_type": "code",
   "execution_count": 293,
   "id": "517dbca7",
   "metadata": {},
   "outputs": [],
   "source": [
    "df_D[\"categoria\"] = df_D[\"nombre\"].apply(limpiar)\n",
    "#df_D.head(2)"
   ]
  },
  {
   "cell_type": "code",
   "execution_count": 295,
   "id": "85287e75",
   "metadata": {},
   "outputs": [],
   "source": [
    "df_B[\"categoria\"] = df_B[\"nombre\"].apply(limpiar)\n",
    "#df_B.head(2)"
   ]
  },
  {
   "cell_type": "markdown",
   "id": "c9ce5124",
   "metadata": {},
   "source": [
    "## Calculamos la distancia de cada punto con el punto central"
   ]
  },
  {
   "cell_type": "code",
   "execution_count": 297,
   "id": "b60672c2",
   "metadata": {},
   "outputs": [],
   "source": [
    "mis_puntos = []\n",
    "for i,row in df_M.iterrows():\n",
    "    mis_puntos.append(row[\"location\"][\"coordinates\"])    "
   ]
  },
  {
   "cell_type": "code",
   "execution_count": 298,
   "id": "950da172",
   "metadata": {},
   "outputs": [],
   "source": [
    "df_M[\"latlong\"] = mis_puntos"
   ]
  },
  {
   "cell_type": "code",
   "execution_count": 381,
   "id": "d38263a0",
   "metadata": {},
   "outputs": [],
   "source": [
    "#df_M.head()"
   ]
  },
  {
   "cell_type": "code",
   "execution_count": 311,
   "id": "748a1248",
   "metadata": {},
   "outputs": [],
   "source": [
    "def distancia_Madrid(coordin):\n",
    "    return (distance.euclidean(coord_tp_M['coordinates'],coordin))*1000"
   ]
  },
  {
   "cell_type": "code",
   "execution_count": 312,
   "id": "fe94d785",
   "metadata": {},
   "outputs": [],
   "source": [
    "df_M[\"Distancia\"] = df_M[\"latlong\"].apply(distancia_Madrid)\n",
    "#df_M[\"Distancia\"]"
   ]
  },
  {
   "cell_type": "code",
   "execution_count": 339,
   "id": "b3b60810",
   "metadata": {},
   "outputs": [
    {
     "data": {
      "text/html": [
       "<div>\n",
       "<style scoped>\n",
       "    .dataframe tbody tr th:only-of-type {\n",
       "        vertical-align: middle;\n",
       "    }\n",
       "\n",
       "    .dataframe tbody tr th {\n",
       "        vertical-align: top;\n",
       "    }\n",
       "\n",
       "    .dataframe thead th {\n",
       "        text-align: right;\n",
       "    }\n",
       "</style>\n",
       "<table border=\"1\" class=\"dataframe\">\n",
       "  <thead>\n",
       "    <tr style=\"text-align: right;\">\n",
       "      <th></th>\n",
       "      <th>_id</th>\n",
       "      <th>nombre</th>\n",
       "      <th>latitud</th>\n",
       "      <th>longitud</th>\n",
       "      <th>location</th>\n",
       "      <th>categoria</th>\n",
       "      <th>latlong</th>\n",
       "      <th>Distancia</th>\n",
       "      <th>ciudad</th>\n",
       "    </tr>\n",
       "  </thead>\n",
       "  <tbody>\n",
       "    <tr>\n",
       "      <th>0</th>\n",
       "      <td>618fad036bd838c298f8a6c1</td>\n",
       "      <td>MSMK Madrid School of Marketing</td>\n",
       "      <td>40.429084</td>\n",
       "      <td>-3.679913</td>\n",
       "      <td>{'type': 'Point', 'coordinates': [40.429084011...</td>\n",
       "      <td>School</td>\n",
       "      <td>[40.42908401194077, -3.6799125837274125]</td>\n",
       "      <td>0.769678</td>\n",
       "      <td>Madrid</td>\n",
       "    </tr>\n",
       "    <tr>\n",
       "      <th>1</th>\n",
       "      <td>618fad036bd838c298f8a6d2</td>\n",
       "      <td>Deusto Business School</td>\n",
       "      <td>40.430948</td>\n",
       "      <td>-3.681059</td>\n",
       "      <td>{'type': 'Point', 'coordinates': [40.430948485...</td>\n",
       "      <td>School</td>\n",
       "      <td>[40.43094848530408, -3.681059215078213]</td>\n",
       "      <td>2.247354</td>\n",
       "      <td>Madrid</td>\n",
       "    </tr>\n",
       "  </tbody>\n",
       "</table>\n",
       "</div>"
      ],
      "text/plain": [
       "                        _id                           nombre    latitud  \\\n",
       "0  618fad036bd838c298f8a6c1  MSMK Madrid School of Marketing  40.429084   \n",
       "1  618fad036bd838c298f8a6d2           Deusto Business School  40.430948   \n",
       "\n",
       "   longitud                                           location categoria  \\\n",
       "0 -3.679913  {'type': 'Point', 'coordinates': [40.429084011...    School   \n",
       "1 -3.681059  {'type': 'Point', 'coordinates': [40.430948485...    School   \n",
       "\n",
       "                                    latlong  Distancia  ciudad  \n",
       "0  [40.42908401194077, -3.6799125837274125]   0.769678  Madrid  \n",
       "1   [40.43094848530408, -3.681059215078213]   2.247354  Madrid  "
      ]
     },
     "execution_count": 339,
     "metadata": {},
     "output_type": "execute_result"
    }
   ],
   "source": [
    "df_M[\"ciudad\"] = 'Madrid'\n",
    "df_M.head(2)"
   ]
  },
  {
   "cell_type": "code",
   "execution_count": 314,
   "id": "7ab14c97",
   "metadata": {},
   "outputs": [],
   "source": [
    "mis_puntos = []\n",
    "for i,row in df_D.iterrows():\n",
    "    mis_puntos.append(row[\"location\"][\"coordinates\"])    "
   ]
  },
  {
   "cell_type": "code",
   "execution_count": 315,
   "id": "cf4703c9",
   "metadata": {},
   "outputs": [],
   "source": [
    "df_D[\"latlong\"] = mis_puntos"
   ]
  },
  {
   "cell_type": "code",
   "execution_count": 316,
   "id": "b8826f80",
   "metadata": {},
   "outputs": [],
   "source": [
    "#df_D.head()"
   ]
  },
  {
   "cell_type": "code",
   "execution_count": 317,
   "id": "7b929e90",
   "metadata": {},
   "outputs": [],
   "source": [
    "def distancia_Dublin(coordin):\n",
    "    return (distance.euclidean(coord_tp_D['coordinates'],coordin))*1000"
   ]
  },
  {
   "cell_type": "code",
   "execution_count": 319,
   "id": "99451376",
   "metadata": {},
   "outputs": [],
   "source": [
    "df_D[\"Distancia\"] = df_D[\"latlong\"].apply(distancia_Dublin)\n",
    "#df_D[\"Distancia\"]"
   ]
  },
  {
   "cell_type": "code",
   "execution_count": 338,
   "id": "2d133c03",
   "metadata": {},
   "outputs": [
    {
     "data": {
      "text/html": [
       "<div>\n",
       "<style scoped>\n",
       "    .dataframe tbody tr th:only-of-type {\n",
       "        vertical-align: middle;\n",
       "    }\n",
       "\n",
       "    .dataframe tbody tr th {\n",
       "        vertical-align: top;\n",
       "    }\n",
       "\n",
       "    .dataframe thead th {\n",
       "        text-align: right;\n",
       "    }\n",
       "</style>\n",
       "<table border=\"1\" class=\"dataframe\">\n",
       "  <thead>\n",
       "    <tr style=\"text-align: right;\">\n",
       "      <th></th>\n",
       "      <th>_id</th>\n",
       "      <th>nombre</th>\n",
       "      <th>latitud</th>\n",
       "      <th>longitud</th>\n",
       "      <th>location</th>\n",
       "      <th>categoria</th>\n",
       "      <th>latlong</th>\n",
       "      <th>Distancia</th>\n",
       "      <th>ciudad</th>\n",
       "    </tr>\n",
       "  </thead>\n",
       "  <tbody>\n",
       "    <tr>\n",
       "      <th>0</th>\n",
       "      <td>618faca16bd838c298f8a5ee</td>\n",
       "      <td>Toronto Airport Limo</td>\n",
       "      <td>53.349732</td>\n",
       "      <td>-6.260254</td>\n",
       "      <td>{'type': 'Point', 'coordinates': [53.349731569...</td>\n",
       "      <td>Airport</td>\n",
       "      <td>[53.34973156905316, -6.260254383087158]</td>\n",
       "      <td>0.642455</td>\n",
       "      <td>Dublin</td>\n",
       "    </tr>\n",
       "    <tr>\n",
       "      <th>1</th>\n",
       "      <td>618facda6bd838c298f8a668</td>\n",
       "      <td>Starbucks</td>\n",
       "      <td>53.349679</td>\n",
       "      <td>-6.259835</td>\n",
       "      <td>{'type': 'Point', 'coordinates': [53.349679131...</td>\n",
       "      <td>Starbucks</td>\n",
       "      <td>[53.34967913192385, -6.259834819120199]</td>\n",
       "      <td>0.908158</td>\n",
       "      <td>Dublin</td>\n",
       "    </tr>\n",
       "  </tbody>\n",
       "</table>\n",
       "</div>"
      ],
      "text/plain": [
       "                        _id                nombre    latitud  longitud  \\\n",
       "0  618faca16bd838c298f8a5ee  Toronto Airport Limo  53.349732 -6.260254   \n",
       "1  618facda6bd838c298f8a668             Starbucks  53.349679 -6.259835   \n",
       "\n",
       "                                            location  categoria  \\\n",
       "0  {'type': 'Point', 'coordinates': [53.349731569...    Airport   \n",
       "1  {'type': 'Point', 'coordinates': [53.349679131...  Starbucks   \n",
       "\n",
       "                                   latlong  Distancia  ciudad  \n",
       "0  [53.34973156905316, -6.260254383087158]   0.642455  Dublin  \n",
       "1  [53.34967913192385, -6.259834819120199]   0.908158  Dublin  "
      ]
     },
     "execution_count": 338,
     "metadata": {},
     "output_type": "execute_result"
    }
   ],
   "source": [
    "df_D[\"ciudad\"] = 'Dublin'\n",
    "df_D.head(2)"
   ]
  },
  {
   "cell_type": "code",
   "execution_count": 322,
   "id": "75e663f0",
   "metadata": {},
   "outputs": [],
   "source": [
    "mis_puntos = []\n",
    "for i,row in df_B.iterrows():\n",
    "    mis_puntos.append(row[\"location\"][\"coordinates\"])  "
   ]
  },
  {
   "cell_type": "code",
   "execution_count": 323,
   "id": "86eab1f9",
   "metadata": {},
   "outputs": [],
   "source": [
    "df_B[\"latlong\"] = mis_puntos"
   ]
  },
  {
   "cell_type": "code",
   "execution_count": 324,
   "id": "a1ced92c",
   "metadata": {},
   "outputs": [],
   "source": [
    "#df_B.head()"
   ]
  },
  {
   "cell_type": "code",
   "execution_count": 325,
   "id": "cc8c50e6",
   "metadata": {},
   "outputs": [],
   "source": [
    "def distancia_Bucarest(coordin):\n",
    "    return (distance.euclidean(coord_tp_B['coordinates'],coordin))*1000"
   ]
  },
  {
   "cell_type": "code",
   "execution_count": 326,
   "id": "bfb2ae40",
   "metadata": {},
   "outputs": [],
   "source": [
    "df_B[\"Distancia\"] = df_B[\"latlong\"].apply(distancia_Bucarest)\n",
    "#df_B[\"Distancia\"]"
   ]
  },
  {
   "cell_type": "code",
   "execution_count": 328,
   "id": "4a339d00",
   "metadata": {},
   "outputs": [],
   "source": [
    "#df_B.head()"
   ]
  },
  {
   "cell_type": "code",
   "execution_count": 369,
   "id": "4a5a4a33",
   "metadata": {},
   "outputs": [
    {
     "data": {
      "text/html": [
       "<div>\n",
       "<style scoped>\n",
       "    .dataframe tbody tr th:only-of-type {\n",
       "        vertical-align: middle;\n",
       "    }\n",
       "\n",
       "    .dataframe tbody tr th {\n",
       "        vertical-align: top;\n",
       "    }\n",
       "\n",
       "    .dataframe thead th {\n",
       "        text-align: right;\n",
       "    }\n",
       "</style>\n",
       "<table border=\"1\" class=\"dataframe\">\n",
       "  <thead>\n",
       "    <tr style=\"text-align: right;\">\n",
       "      <th></th>\n",
       "      <th>_id</th>\n",
       "      <th>nombre</th>\n",
       "      <th>latitud</th>\n",
       "      <th>longitud</th>\n",
       "      <th>location</th>\n",
       "      <th>categoria</th>\n",
       "      <th>latlong</th>\n",
       "      <th>Distancia</th>\n",
       "      <th>ciudad</th>\n",
       "    </tr>\n",
       "  </thead>\n",
       "  <tbody>\n",
       "    <tr>\n",
       "      <th>0</th>\n",
       "      <td>618fac476bd838c298f8a588</td>\n",
       "      <td>bella dog</td>\n",
       "      <td>44.429934</td>\n",
       "      <td>26.094152</td>\n",
       "      <td>{'type': 'Point', 'coordinates': [44.429934133...</td>\n",
       "      <td>Dog grooming</td>\n",
       "      <td>[44.429934133909114, 26.09415232523072]</td>\n",
       "      <td>3.398954</td>\n",
       "      <td>Bucarest</td>\n",
       "    </tr>\n",
       "    <tr>\n",
       "      <th>1</th>\n",
       "      <td>618fac7f6bd838c298f8a5b2</td>\n",
       "      <td>ICEP Hotel School</td>\n",
       "      <td>44.420880</td>\n",
       "      <td>26.094750</td>\n",
       "      <td>{'type': 'Point', 'coordinates': [44.42088, 26...</td>\n",
       "      <td>School</td>\n",
       "      <td>[44.42088, 26.09475]</td>\n",
       "      <td>6.897717</td>\n",
       "      <td>Bucarest</td>\n",
       "    </tr>\n",
       "  </tbody>\n",
       "</table>\n",
       "</div>"
      ],
      "text/plain": [
       "                        _id             nombre    latitud   longitud  \\\n",
       "0  618fac476bd838c298f8a588          bella dog  44.429934  26.094152   \n",
       "1  618fac7f6bd838c298f8a5b2  ICEP Hotel School  44.420880  26.094750   \n",
       "\n",
       "                                            location     categoria  \\\n",
       "0  {'type': 'Point', 'coordinates': [44.429934133...  Dog grooming   \n",
       "1  {'type': 'Point', 'coordinates': [44.42088, 26...        School   \n",
       "\n",
       "                                   latlong  Distancia    ciudad  \n",
       "0  [44.429934133909114, 26.09415232523072]   3.398954  Bucarest  \n",
       "1                     [44.42088, 26.09475]   6.897717  Bucarest  "
      ]
     },
     "execution_count": 369,
     "metadata": {},
     "output_type": "execute_result"
    }
   ],
   "source": [
    "df_B[\"ciudad\"] = 'Bucarest'\n",
    "df_B.head(2)"
   ]
  },
  {
   "cell_type": "markdown",
   "id": "753319b3",
   "metadata": {},
   "source": [
    "## Ahora intentemos normalizar"
   ]
  },
  {
   "cell_type": "code",
   "execution_count": 370,
   "id": "48986505",
   "metadata": {},
   "outputs": [],
   "source": [
    "data = df_M.append([df_B, df_D])"
   ]
  },
  {
   "cell_type": "code",
   "execution_count": 371,
   "id": "fd541e2d",
   "metadata": {},
   "outputs": [
    {
     "data": {
      "text/plain": [
       "(283, 9)"
      ]
     },
     "execution_count": 371,
     "metadata": {},
     "output_type": "execute_result"
    }
   ],
   "source": [
    "data.shape"
   ]
  },
  {
   "cell_type": "code",
   "execution_count": 373,
   "id": "5f5ce303",
   "metadata": {},
   "outputs": [],
   "source": [
    "data_final = data[data[\"categoria\"] != 'Others']"
   ]
  },
  {
   "cell_type": "code",
   "execution_count": 376,
   "id": "f4c48893",
   "metadata": {},
   "outputs": [],
   "source": [
    "total_data = data_final.groupby([\"categoria\", \"ciudad\"]).mean()"
   ]
  },
  {
   "cell_type": "code",
   "execution_count": 382,
   "id": "3b83b83f",
   "metadata": {},
   "outputs": [
    {
     "data": {
      "text/html": [
       "<div>\n",
       "<style scoped>\n",
       "    .dataframe tbody tr th:only-of-type {\n",
       "        vertical-align: middle;\n",
       "    }\n",
       "\n",
       "    .dataframe tbody tr th {\n",
       "        vertical-align: top;\n",
       "    }\n",
       "\n",
       "    .dataframe thead th {\n",
       "        text-align: right;\n",
       "    }\n",
       "</style>\n",
       "<table border=\"1\" class=\"dataframe\">\n",
       "  <thead>\n",
       "    <tr style=\"text-align: right;\">\n",
       "      <th></th>\n",
       "      <th></th>\n",
       "      <th>latitud</th>\n",
       "      <th>longitud</th>\n",
       "      <th>Distancia</th>\n",
       "    </tr>\n",
       "    <tr>\n",
       "      <th>categoria</th>\n",
       "      <th>ciudad</th>\n",
       "      <th></th>\n",
       "      <th></th>\n",
       "      <th></th>\n",
       "    </tr>\n",
       "  </thead>\n",
       "  <tbody>\n",
       "    <tr>\n",
       "      <th rowspan=\"3\" valign=\"top\">Airport</th>\n",
       "      <th>Bucarest</th>\n",
       "      <td>44.437259</td>\n",
       "      <td>26.091341</td>\n",
       "      <td>17.402089</td>\n",
       "    </tr>\n",
       "    <tr>\n",
       "      <th>Dublin</th>\n",
       "      <td>53.350183</td>\n",
       "      <td>-6.261680</td>\n",
       "      <td>16.862564</td>\n",
       "    </tr>\n",
       "    <tr>\n",
       "      <th>Madrid</th>\n",
       "      <td>40.430468</td>\n",
       "      <td>-3.695076</td>\n",
       "      <td>25.885293</td>\n",
       "    </tr>\n",
       "    <tr>\n",
       "      <th rowspan=\"3\" valign=\"top\">Disco</th>\n",
       "      <th>Bucarest</th>\n",
       "      <td>44.438146</td>\n",
       "      <td>26.096557</td>\n",
       "      <td>21.067706</td>\n",
       "    </tr>\n",
       "    <tr>\n",
       "      <th>Dublin</th>\n",
       "      <td>53.342643</td>\n",
       "      <td>-6.262321</td>\n",
       "      <td>8.816538</td>\n",
       "    </tr>\n",
       "    <tr>\n",
       "      <th>Madrid</th>\n",
       "      <td>40.446783</td>\n",
       "      <td>-3.681514</td>\n",
       "      <td>22.529341</td>\n",
       "    </tr>\n",
       "    <tr>\n",
       "      <th rowspan=\"3\" valign=\"top\">Dog grooming</th>\n",
       "      <th>Bucarest</th>\n",
       "      <td>44.433840</td>\n",
       "      <td>26.096344</td>\n",
       "      <td>25.599482</td>\n",
       "    </tr>\n",
       "    <tr>\n",
       "      <th>Dublin</th>\n",
       "      <td>53.346605</td>\n",
       "      <td>-6.259738</td>\n",
       "      <td>20.385157</td>\n",
       "    </tr>\n",
       "    <tr>\n",
       "      <th>Madrid</th>\n",
       "      <td>40.430027</td>\n",
       "      <td>-3.691807</td>\n",
       "      <td>24.703066</td>\n",
       "    </tr>\n",
       "    <tr>\n",
       "      <th rowspan=\"3\" valign=\"top\">School</th>\n",
       "      <th>Bucarest</th>\n",
       "      <td>44.437523</td>\n",
       "      <td>26.098311</td>\n",
       "      <td>21.029913</td>\n",
       "    </tr>\n",
       "    <tr>\n",
       "      <th>Dublin</th>\n",
       "      <td>53.345240</td>\n",
       "      <td>-6.259633</td>\n",
       "      <td>8.150257</td>\n",
       "    </tr>\n",
       "    <tr>\n",
       "      <th>Madrid</th>\n",
       "      <td>40.432110</td>\n",
       "      <td>-3.686464</td>\n",
       "      <td>11.548951</td>\n",
       "    </tr>\n",
       "    <tr>\n",
       "      <th rowspan=\"3\" valign=\"top\">Starbucks</th>\n",
       "      <th>Bucarest</th>\n",
       "      <td>44.436830</td>\n",
       "      <td>26.089847</td>\n",
       "      <td>27.899706</td>\n",
       "    </tr>\n",
       "    <tr>\n",
       "      <th>Dublin</th>\n",
       "      <td>53.344248</td>\n",
       "      <td>-6.258088</td>\n",
       "      <td>9.642037</td>\n",
       "    </tr>\n",
       "    <tr>\n",
       "      <th>Madrid</th>\n",
       "      <td>40.423869</td>\n",
       "      <td>-3.698097</td>\n",
       "      <td>22.608992</td>\n",
       "    </tr>\n",
       "  </tbody>\n",
       "</table>\n",
       "</div>"
      ],
      "text/plain": [
       "                         latitud   longitud  Distancia\n",
       "categoria    ciudad                                   \n",
       "Airport      Bucarest  44.437259  26.091341  17.402089\n",
       "             Dublin    53.350183  -6.261680  16.862564\n",
       "             Madrid    40.430468  -3.695076  25.885293\n",
       "Disco        Bucarest  44.438146  26.096557  21.067706\n",
       "             Dublin    53.342643  -6.262321   8.816538\n",
       "             Madrid    40.446783  -3.681514  22.529341\n",
       "Dog grooming Bucarest  44.433840  26.096344  25.599482\n",
       "             Dublin    53.346605  -6.259738  20.385157\n",
       "             Madrid    40.430027  -3.691807  24.703066\n",
       "School       Bucarest  44.437523  26.098311  21.029913\n",
       "             Dublin    53.345240  -6.259633   8.150257\n",
       "             Madrid    40.432110  -3.686464  11.548951\n",
       "Starbucks    Bucarest  44.436830  26.089847  27.899706\n",
       "             Dublin    53.344248  -6.258088   9.642037\n",
       "             Madrid    40.423869  -3.698097  22.608992"
      ]
     },
     "execution_count": 382,
     "metadata": {},
     "output_type": "execute_result"
    }
   ],
   "source": [
    "total_data"
   ]
  },
  {
   "cell_type": "code",
   "execution_count": 383,
   "id": "97b17abb",
   "metadata": {},
   "outputs": [
    {
     "data": {
      "text/html": [
       "<div>\n",
       "<style scoped>\n",
       "    .dataframe tbody tr th:only-of-type {\n",
       "        vertical-align: middle;\n",
       "    }\n",
       "\n",
       "    .dataframe tbody tr th {\n",
       "        vertical-align: top;\n",
       "    }\n",
       "\n",
       "    .dataframe thead th {\n",
       "        text-align: right;\n",
       "    }\n",
       "</style>\n",
       "<table border=\"1\" class=\"dataframe\">\n",
       "  <thead>\n",
       "    <tr style=\"text-align: right;\">\n",
       "      <th></th>\n",
       "      <th>categoria</th>\n",
       "      <th>ciudad</th>\n",
       "      <th>latitud</th>\n",
       "      <th>longitud</th>\n",
       "      <th>Distancia</th>\n",
       "    </tr>\n",
       "  </thead>\n",
       "  <tbody>\n",
       "    <tr>\n",
       "      <th>0</th>\n",
       "      <td>Airport</td>\n",
       "      <td>Bucarest</td>\n",
       "      <td>44.437259</td>\n",
       "      <td>26.091341</td>\n",
       "      <td>17.402089</td>\n",
       "    </tr>\n",
       "    <tr>\n",
       "      <th>1</th>\n",
       "      <td>Airport</td>\n",
       "      <td>Dublin</td>\n",
       "      <td>53.350183</td>\n",
       "      <td>-6.261680</td>\n",
       "      <td>16.862564</td>\n",
       "    </tr>\n",
       "    <tr>\n",
       "      <th>2</th>\n",
       "      <td>Airport</td>\n",
       "      <td>Madrid</td>\n",
       "      <td>40.430468</td>\n",
       "      <td>-3.695076</td>\n",
       "      <td>25.885293</td>\n",
       "    </tr>\n",
       "    <tr>\n",
       "      <th>3</th>\n",
       "      <td>Disco</td>\n",
       "      <td>Bucarest</td>\n",
       "      <td>44.438146</td>\n",
       "      <td>26.096557</td>\n",
       "      <td>21.067706</td>\n",
       "    </tr>\n",
       "    <tr>\n",
       "      <th>4</th>\n",
       "      <td>Disco</td>\n",
       "      <td>Dublin</td>\n",
       "      <td>53.342643</td>\n",
       "      <td>-6.262321</td>\n",
       "      <td>8.816538</td>\n",
       "    </tr>\n",
       "    <tr>\n",
       "      <th>5</th>\n",
       "      <td>Disco</td>\n",
       "      <td>Madrid</td>\n",
       "      <td>40.446783</td>\n",
       "      <td>-3.681514</td>\n",
       "      <td>22.529341</td>\n",
       "    </tr>\n",
       "    <tr>\n",
       "      <th>6</th>\n",
       "      <td>Dog grooming</td>\n",
       "      <td>Bucarest</td>\n",
       "      <td>44.433840</td>\n",
       "      <td>26.096344</td>\n",
       "      <td>25.599482</td>\n",
       "    </tr>\n",
       "    <tr>\n",
       "      <th>7</th>\n",
       "      <td>Dog grooming</td>\n",
       "      <td>Dublin</td>\n",
       "      <td>53.346605</td>\n",
       "      <td>-6.259738</td>\n",
       "      <td>20.385157</td>\n",
       "    </tr>\n",
       "    <tr>\n",
       "      <th>8</th>\n",
       "      <td>Dog grooming</td>\n",
       "      <td>Madrid</td>\n",
       "      <td>40.430027</td>\n",
       "      <td>-3.691807</td>\n",
       "      <td>24.703066</td>\n",
       "    </tr>\n",
       "    <tr>\n",
       "      <th>9</th>\n",
       "      <td>School</td>\n",
       "      <td>Bucarest</td>\n",
       "      <td>44.437523</td>\n",
       "      <td>26.098311</td>\n",
       "      <td>21.029913</td>\n",
       "    </tr>\n",
       "    <tr>\n",
       "      <th>10</th>\n",
       "      <td>School</td>\n",
       "      <td>Dublin</td>\n",
       "      <td>53.345240</td>\n",
       "      <td>-6.259633</td>\n",
       "      <td>8.150257</td>\n",
       "    </tr>\n",
       "    <tr>\n",
       "      <th>11</th>\n",
       "      <td>School</td>\n",
       "      <td>Madrid</td>\n",
       "      <td>40.432110</td>\n",
       "      <td>-3.686464</td>\n",
       "      <td>11.548951</td>\n",
       "    </tr>\n",
       "    <tr>\n",
       "      <th>12</th>\n",
       "      <td>Starbucks</td>\n",
       "      <td>Bucarest</td>\n",
       "      <td>44.436830</td>\n",
       "      <td>26.089847</td>\n",
       "      <td>27.899706</td>\n",
       "    </tr>\n",
       "    <tr>\n",
       "      <th>13</th>\n",
       "      <td>Starbucks</td>\n",
       "      <td>Dublin</td>\n",
       "      <td>53.344248</td>\n",
       "      <td>-6.258088</td>\n",
       "      <td>9.642037</td>\n",
       "    </tr>\n",
       "    <tr>\n",
       "      <th>14</th>\n",
       "      <td>Starbucks</td>\n",
       "      <td>Madrid</td>\n",
       "      <td>40.423869</td>\n",
       "      <td>-3.698097</td>\n",
       "      <td>22.608992</td>\n",
       "    </tr>\n",
       "  </tbody>\n",
       "</table>\n",
       "</div>"
      ],
      "text/plain": [
       "       categoria    ciudad    latitud   longitud  Distancia\n",
       "0        Airport  Bucarest  44.437259  26.091341  17.402089\n",
       "1        Airport    Dublin  53.350183  -6.261680  16.862564\n",
       "2        Airport    Madrid  40.430468  -3.695076  25.885293\n",
       "3          Disco  Bucarest  44.438146  26.096557  21.067706\n",
       "4          Disco    Dublin  53.342643  -6.262321   8.816538\n",
       "5          Disco    Madrid  40.446783  -3.681514  22.529341\n",
       "6   Dog grooming  Bucarest  44.433840  26.096344  25.599482\n",
       "7   Dog grooming    Dublin  53.346605  -6.259738  20.385157\n",
       "8   Dog grooming    Madrid  40.430027  -3.691807  24.703066\n",
       "9         School  Bucarest  44.437523  26.098311  21.029913\n",
       "10        School    Dublin  53.345240  -6.259633   8.150257\n",
       "11        School    Madrid  40.432110  -3.686464  11.548951\n",
       "12     Starbucks  Bucarest  44.436830  26.089847  27.899706\n",
       "13     Starbucks    Dublin  53.344248  -6.258088   9.642037\n",
       "14     Starbucks    Madrid  40.423869  -3.698097  22.608992"
      ]
     },
     "execution_count": 383,
     "metadata": {},
     "output_type": "execute_result"
    }
   ],
   "source": [
    "total_data.reset_index(drop = False)"
   ]
  },
  {
   "cell_type": "markdown",
   "id": "d6cbd299",
   "metadata": {},
   "source": [
    "## Entiendo que esta función no me servirá porque no voy a hacer intersección de colecciones"
   ]
  },
  {
   "cell_type": "code",
   "execution_count": null,
   "id": "ef22882f",
   "metadata": {},
   "outputs": [],
   "source": [
    "total = [] # lista para resultado final\n",
    "for i in libres_cerca: #iteramos por la lista entera de librerías de antes \n",
    "    point = type_point([i[\"longitud\"],i[\"latitud\"]]) #preparamos tipo point de cada una \n",
    "    query = {\"geometry\": {\"$geoIntersects\": {\"$geometry\": point}}} #hacemos la query para buscar el barrio \n",
    "    resultado = dis.find_one(query) # hacemos la query \n",
    "    libre = {i[\"nombre\"]:resultado[\"properties\"][\"nombre\"]} # nombre de la librería y nombre del distrito de la query\n",
    "    total.append(libre)"
   ]
  },
  {
   "cell_type": "markdown",
   "id": "831191a3",
   "metadata": {},
   "source": [
    "## Algunas pruebas para cambiar el nombre de las variables desde el clining pero desde jyn hago ensayos"
   ]
  },
  {
   "cell_type": "code",
   "execution_count": null,
   "id": "4c2d8a08",
   "metadata": {},
   "outputs": [],
   "source": []
  },
  {
   "cell_type": "code",
   "execution_count": null,
   "id": "b6c3c659",
   "metadata": {},
   "outputs": [],
   "source": []
  }
 ],
 "metadata": {
  "kernelspec": {
   "display_name": "ironhack",
   "language": "python",
   "name": "ironhack"
  },
  "language_info": {
   "codemirror_mode": {
    "name": "ipython",
    "version": 3
   },
   "file_extension": ".py",
   "mimetype": "text/x-python",
   "name": "python",
   "nbconvert_exporter": "python",
   "pygments_lexer": "ipython3",
   "version": "3.8.10"
  }
 },
 "nbformat": 4,
 "nbformat_minor": 5
}
