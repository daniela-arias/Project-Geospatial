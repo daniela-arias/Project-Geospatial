{
 "cells": [
  {
   "cell_type": "markdown",
   "id": "0c0da87b",
   "metadata": {},
   "source": [
    "## Librerias que utilizaremos "
   ]
  },
  {
   "cell_type": "code",
   "execution_count": 1,
   "id": "e983635e",
   "metadata": {},
   "outputs": [],
   "source": [
    "from pymongo import MongoClient\n",
    "from pymongo import GEOSPHERE\n",
    "import re\n",
    "import geopandas as gpd\n",
    "from cartoframes.viz import Map, Layer, popup_element\n",
    "from scipy.spatial import distance\n",
    "import pandas as pd\n",
    "import seaborn as sns\n",
    "import matplotlib.pyplot as plt"
   ]
  },
  {
   "cell_type": "markdown",
   "id": "67d00067",
   "metadata": {},
   "source": [
    "## Conectamos con Mongo DB"
   ]
  },
  {
   "cell_type": "code",
   "execution_count": 2,
   "id": "85f9620f",
   "metadata": {},
   "outputs": [
    {
     "data": {
      "text/plain": [
       "Database(MongoClient(host=['localhost:27017'], document_class=dict, tz_aware=False, connect=True), 'ironhack')"
      ]
     },
     "execution_count": 2,
     "metadata": {},
     "output_type": "execute_result"
    }
   ],
   "source": [
    "client = MongoClient(\"localhost:27017\")\n",
    "db = client.get_database(\"ironhack\")\n",
    "db"
   ]
  },
  {
   "cell_type": "code",
   "execution_count": 3,
   "id": "c3af3327",
   "metadata": {},
   "outputs": [
    {
     "data": {
      "text/plain": [
       "['Ironhack', 'Taller_Geo', 'admin', 'config', 'local']"
      ]
     },
     "execution_count": 3,
     "metadata": {},
     "output_type": "execute_result"
    }
   ],
   "source": [
    "client.list_database_names()"
   ]
  },
  {
   "cell_type": "markdown",
   "id": "6f9862b4",
   "metadata": {},
   "source": [
    "## Obtenemos la Base de datos con la que trabajaremos"
   ]
  },
  {
   "cell_type": "code",
   "execution_count": 4,
   "id": "90d364ee",
   "metadata": {},
   "outputs": [],
   "source": [
    "db = client.get_database(\"Taller_Geo\")"
   ]
  },
  {
   "cell_type": "code",
   "execution_count": 5,
   "id": "16f75a40",
   "metadata": {},
   "outputs": [
    {
     "data": {
      "text/plain": [
       "Database(MongoClient(host=['localhost:27017'], document_class=dict, tz_aware=False, connect=True), 'Taller_Geo')"
      ]
     },
     "execution_count": 5,
     "metadata": {},
     "output_type": "execute_result"
    }
   ],
   "source": [
    "db"
   ]
  },
  {
   "cell_type": "code",
   "execution_count": 6,
   "id": "ac4d0860",
   "metadata": {},
   "outputs": [
    {
     "data": {
      "text/plain": [
       "['Bucarest', 'Dublin', 'Madrid']"
      ]
     },
     "execution_count": 6,
     "metadata": {},
     "output_type": "execute_result"
    }
   ],
   "source": [
    "db.list_collection_names()"
   ]
  },
  {
   "cell_type": "code",
   "execution_count": 7,
   "id": "1f731935",
   "metadata": {},
   "outputs": [],
   "source": [
    "B = db.get_collection(\"Bucarest\")"
   ]
  },
  {
   "cell_type": "code",
   "execution_count": 8,
   "id": "84193361",
   "metadata": {},
   "outputs": [
    {
     "data": {
      "text/plain": [
       "Collection(Database(MongoClient(host=['localhost:27017'], document_class=dict, tz_aware=False, connect=True), 'Taller_Geo'), 'Bucarest')"
      ]
     },
     "execution_count": 8,
     "metadata": {},
     "output_type": "execute_result"
    }
   ],
   "source": [
    "B"
   ]
  },
  {
   "cell_type": "code",
   "execution_count": 9,
   "id": "f89d4aab",
   "metadata": {},
   "outputs": [],
   "source": [
    "M = db.get_collection(\"Madrid\")"
   ]
  },
  {
   "cell_type": "code",
   "execution_count": 10,
   "id": "b83e4b5e",
   "metadata": {},
   "outputs": [
    {
     "data": {
      "text/plain": [
       "Collection(Database(MongoClient(host=['localhost:27017'], document_class=dict, tz_aware=False, connect=True), 'Taller_Geo'), 'Madrid')"
      ]
     },
     "execution_count": 10,
     "metadata": {},
     "output_type": "execute_result"
    }
   ],
   "source": [
    "M"
   ]
  },
  {
   "cell_type": "code",
   "execution_count": 11,
   "id": "31dfc156",
   "metadata": {},
   "outputs": [],
   "source": [
    "D = db.get_collection(\"Dublin\")"
   ]
  },
  {
   "cell_type": "code",
   "execution_count": 12,
   "id": "8503cca3",
   "metadata": {},
   "outputs": [
    {
     "data": {
      "text/plain": [
       "Collection(Database(MongoClient(host=['localhost:27017'], document_class=dict, tz_aware=False, connect=True), 'Taller_Geo'), 'Dublin')"
      ]
     },
     "execution_count": 12,
     "metadata": {},
     "output_type": "execute_result"
    }
   ],
   "source": [
    "D"
   ]
  },
  {
   "cell_type": "markdown",
   "id": "2e7e0617",
   "metadata": {},
   "source": [
    "## Creamos los índices para cada colección"
   ]
  },
  {
   "cell_type": "code",
   "execution_count": 13,
   "id": "55674d5c",
   "metadata": {},
   "outputs": [
    {
     "data": {
      "text/plain": [
       "'location_2dsphere'"
      ]
     },
     "execution_count": 13,
     "metadata": {},
     "output_type": "execute_result"
    }
   ],
   "source": [
    "db.Bucarest.create_index([(\"location\", GEOSPHERE)])"
   ]
  },
  {
   "cell_type": "code",
   "execution_count": 14,
   "id": "e42e72cc",
   "metadata": {},
   "outputs": [
    {
     "data": {
      "text/plain": [
       "'location_2dsphere'"
      ]
     },
     "execution_count": 14,
     "metadata": {},
     "output_type": "execute_result"
    }
   ],
   "source": [
    "db.Madrid.create_index([(\"location\", GEOSPHERE)])"
   ]
  },
  {
   "cell_type": "code",
   "execution_count": 15,
   "id": "f677ddb0",
   "metadata": {},
   "outputs": [
    {
     "data": {
      "text/plain": [
       "'location_2dsphere'"
      ]
     },
     "execution_count": 15,
     "metadata": {},
     "output_type": "execute_result"
    }
   ],
   "source": [
    "db.Dublin.create_index([(\"location\", GEOSPHERE)])"
   ]
  },
  {
   "cell_type": "code",
   "execution_count": 16,
   "id": "9460b609",
   "metadata": {},
   "outputs": [],
   "source": [
    "#db.Dublin.find_one() #comprobamos que las 3 colecciones nos brindan información correctamente"
   ]
  },
  {
   "cell_type": "markdown",
   "id": "259dee80",
   "metadata": {},
   "source": [
    "## Utilizamos Near para ver la cercanía de los datos a nuestro punto central"
   ]
  },
  {
   "cell_type": "code",
   "execution_count": 17,
   "id": "a40e6008",
   "metadata": {},
   "outputs": [],
   "source": [
    "#Estos son mis puntos centrales:\n",
    "madrid_coord = [40.42955,-3.6793]\n",
    "dublin_coord = [53.34919,-6.2606] \n",
    "bucarest_coord = [44.42724,26.09208]"
   ]
  },
  {
   "cell_type": "code",
   "execution_count": 18,
   "id": "a0dac5a8",
   "metadata": {},
   "outputs": [],
   "source": [
    "#Esta es la distancia máxima que quiero: \n",
    "metros = 5000"
   ]
  },
  {
   "cell_type": "code",
   "execution_count": 19,
   "id": "e8f1fb42",
   "metadata": {},
   "outputs": [],
   "source": [
    "def type_point(lista):\n",
    "    return {\"type\":\"Point\", \"coordinates\": lista}"
   ]
  },
  {
   "cell_type": "code",
   "execution_count": 20,
   "id": "d7e74cee",
   "metadata": {},
   "outputs": [],
   "source": [
    "coord_tp_M = type_point(madrid_coord)\n",
    "coord_tp_D = type_point(dublin_coord)\n",
    "coord_tp_B = type_point(bucarest_coord)"
   ]
  },
  {
   "cell_type": "code",
   "execution_count": 21,
   "id": "68531844",
   "metadata": {},
   "outputs": [
    {
     "data": {
      "text/plain": [
       "{'type': 'Point', 'coordinates': [40.42955, -3.6793]}"
      ]
     },
     "execution_count": 21,
     "metadata": {},
     "output_type": "execute_result"
    }
   ],
   "source": [
    "coord_tp_M "
   ]
  },
  {
   "cell_type": "code",
   "execution_count": 22,
   "id": "da239716",
   "metadata": {},
   "outputs": [],
   "source": [
    "query_M = {\"location\": {\"$near\": {\"$geometry\": coord_tp_M, \"$maxDistance\": metros}}}"
   ]
  },
  {
   "cell_type": "code",
   "execution_count": 23,
   "id": "a255fb63",
   "metadata": {},
   "outputs": [
    {
     "data": {
      "text/plain": [
       "{'location': {'$near': {'$geometry': {'type': 'Point',\n",
       "    'coordinates': [40.42955, -3.6793]},\n",
       "   '$maxDistance': 5000}}}"
      ]
     },
     "execution_count": 23,
     "metadata": {},
     "output_type": "execute_result"
    }
   ],
   "source": [
    "query_M"
   ]
  },
  {
   "cell_type": "code",
   "execution_count": 24,
   "id": "b06cf530",
   "metadata": {},
   "outputs": [],
   "source": [
    "resultado_M = list(M.find(query_M))\n",
    "#resultado_M"
   ]
  },
  {
   "cell_type": "code",
   "execution_count": 25,
   "id": "cb74b774",
   "metadata": {},
   "outputs": [],
   "source": [
    "query_D = {\"location\": {\"$near\": {\"$geometry\": coord_tp_D, \"$maxDistance\": metros}}}"
   ]
  },
  {
   "cell_type": "code",
   "execution_count": 26,
   "id": "cf217cc0",
   "metadata": {},
   "outputs": [
    {
     "data": {
      "text/plain": [
       "{'location': {'$near': {'$geometry': {'type': 'Point',\n",
       "    'coordinates': [53.34919, -6.2606]},\n",
       "   '$maxDistance': 5000}}}"
      ]
     },
     "execution_count": 26,
     "metadata": {},
     "output_type": "execute_result"
    }
   ],
   "source": [
    "query_D"
   ]
  },
  {
   "cell_type": "code",
   "execution_count": 27,
   "id": "6b40be08",
   "metadata": {},
   "outputs": [],
   "source": [
    "resultado_D = list(D.find(query_D))\n",
    "#resultado_D"
   ]
  },
  {
   "cell_type": "code",
   "execution_count": 28,
   "id": "560e94b7",
   "metadata": {},
   "outputs": [
    {
     "data": {
      "text/plain": [
       "{'type': 'Point', 'coordinates': [44.42724, 26.09208]}"
      ]
     },
     "execution_count": 28,
     "metadata": {},
     "output_type": "execute_result"
    }
   ],
   "source": [
    "coord_tp_B"
   ]
  },
  {
   "cell_type": "code",
   "execution_count": 29,
   "id": "fba30880",
   "metadata": {},
   "outputs": [],
   "source": [
    "query_B = {\"location\": {\"$near\": {\"$geometry\": coord_tp_B, \"$maxDistance\": metros}}}"
   ]
  },
  {
   "cell_type": "code",
   "execution_count": 30,
   "id": "2e91ee33",
   "metadata": {},
   "outputs": [],
   "source": [
    "resultado_B = list(B.find(query_B))\n",
    "#resultado_B"
   ]
  },
  {
   "cell_type": "code",
   "execution_count": 31,
   "id": "2cbdff76",
   "metadata": {},
   "outputs": [
    {
     "data": {
      "text/plain": [
       "{'_id': ObjectId('618fac476bd838c298f8a588'),\n",
       " 'nombre': 'bella dog',\n",
       " 'latitud': 44.429934133909114,\n",
       " 'longitud': 26.09415232523072,\n",
       " 'location': {'type': 'Point',\n",
       "  'coordinates': [44.429934133909114, 26.09415232523072]}}"
      ]
     },
     "execution_count": 31,
     "metadata": {},
     "output_type": "execute_result"
    }
   ],
   "source": [
    "resultado_B[0]"
   ]
  },
  {
   "cell_type": "markdown",
   "id": "45ffb589",
   "metadata": {},
   "source": [
    "## Generamos un DataFrame para cada ciudad y hacemos una primera exploración visual"
   ]
  },
  {
   "cell_type": "code",
   "execution_count": 32,
   "id": "039d3746",
   "metadata": {},
   "outputs": [],
   "source": [
    "df_M = pd.DataFrame(resultado_M)\n",
    "#df_M.head()"
   ]
  },
  {
   "cell_type": "code",
   "execution_count": 33,
   "id": "862906d1",
   "metadata": {},
   "outputs": [],
   "source": [
    "gdf_M = gpd.GeoDataFrame(df_M, geometry=gpd.points_from_xy(df_M.longitud, df_M.latitud))\n",
    "#gdf_M"
   ]
  },
  {
   "cell_type": "code",
   "execution_count": 34,
   "id": "4166b72b",
   "metadata": {},
   "outputs": [],
   "source": [
    "#Map(Layer(gdf_M, \"color:purple\", popup_hover=[popup_element(\"nombre\", \"Madrid\")]))"
   ]
  },
  {
   "cell_type": "code",
   "execution_count": 35,
   "id": "6279d303",
   "metadata": {},
   "outputs": [],
   "source": [
    "df_D = pd.DataFrame(resultado_D)\n",
    "#df_D.head(2)"
   ]
  },
  {
   "cell_type": "code",
   "execution_count": 36,
   "id": "1964d191",
   "metadata": {},
   "outputs": [],
   "source": [
    "gdf_D = gpd.GeoDataFrame(df_D, geometry=gpd.points_from_xy(df_D.longitud, df_D.latitud))\n",
    "#gdf_D"
   ]
  },
  {
   "cell_type": "code",
   "execution_count": 37,
   "id": "013a3385",
   "metadata": {},
   "outputs": [],
   "source": [
    "#Map(Layer(gdf_D, \"color:purple\", popup_hover=[popup_element(\"nombre\", \"Madrid\")]))"
   ]
  },
  {
   "cell_type": "code",
   "execution_count": 38,
   "id": "d6e68fb5",
   "metadata": {},
   "outputs": [],
   "source": [
    "df_B = pd.DataFrame(resultado_B)\n",
    "#df_B.head(2)"
   ]
  },
  {
   "cell_type": "code",
   "execution_count": 39,
   "id": "dbd4485e",
   "metadata": {},
   "outputs": [],
   "source": [
    "gdf_B = gpd.GeoDataFrame(df_B, geometry=gpd.points_from_xy(df_B.longitud, df_B.latitud))\n",
    "#gdf_B"
   ]
  },
  {
   "cell_type": "code",
   "execution_count": 40,
   "id": "7427c78d",
   "metadata": {},
   "outputs": [],
   "source": [
    "#Map(Layer(gdf_B, \"color:purple\", popup_hover=[popup_element(\"nombre\", \"Madrid\")]))"
   ]
  },
  {
   "cell_type": "markdown",
   "id": "aed491b8",
   "metadata": {},
   "source": [
    "## Agrupamos los nombres de los requisitos según categorías"
   ]
  },
  {
   "cell_type": "code",
   "execution_count": 41,
   "id": "9b2e0a44",
   "metadata": {},
   "outputs": [],
   "source": [
    "def limpiar(x):\n",
    "    diccionario = {\"Disco\":re.search(\".*[Nn](ight|IGHT).*\",str(x)),\n",
    "                   \"Airport\":re.search(\".*[Aa](irport|IRPORT).*\",str(x)),\n",
    "                   \"School\":re.search(\".*[Ss](chool|CHOOL).*\",str(x)),\n",
    "                   \"Dog grooming\":re.search(\".*[Dd](og|OG).*\",str(x)),\n",
    "                   \"Starbucks\":re.search(\".*[Ss](tarbucks|TARBUCKS).*\",str(x)),\n",
    "                  }\n",
    "\n",
    "    for key,values in diccionario.items():\n",
    "        if values:\n",
    "            return key\n",
    "    return 'Others'"
   ]
  },
  {
   "cell_type": "code",
   "execution_count": 42,
   "id": "9833e4b7",
   "metadata": {},
   "outputs": [],
   "source": [
    "df_M[\"categoria\"] = df_M[\"nombre\"].apply(limpiar)\n",
    "#df_M.head(2)"
   ]
  },
  {
   "cell_type": "code",
   "execution_count": 43,
   "id": "32a15228",
   "metadata": {},
   "outputs": [],
   "source": [
    "df_D[\"categoria\"] = df_D[\"nombre\"].apply(limpiar)\n",
    "#df_D.head(2)"
   ]
  },
  {
   "cell_type": "code",
   "execution_count": 44,
   "id": "78d3a06a",
   "metadata": {},
   "outputs": [],
   "source": [
    "df_B[\"categoria\"] = df_B[\"nombre\"].apply(limpiar)\n",
    "#df_B.head(2)"
   ]
  },
  {
   "cell_type": "markdown",
   "id": "5c439448",
   "metadata": {},
   "source": [
    "## Calculamos la distancia de cada punto con el punto central"
   ]
  },
  {
   "cell_type": "code",
   "execution_count": 45,
   "id": "3005013e",
   "metadata": {},
   "outputs": [],
   "source": [
    "mis_puntos = []\n",
    "for i,row in df_M.iterrows():\n",
    "    mis_puntos.append(row[\"location\"][\"coordinates\"])    "
   ]
  },
  {
   "cell_type": "code",
   "execution_count": 46,
   "id": "d0de7525",
   "metadata": {},
   "outputs": [],
   "source": [
    "df_M[\"latlong\"] = mis_puntos"
   ]
  },
  {
   "cell_type": "code",
   "execution_count": 47,
   "id": "2c5964c3",
   "metadata": {},
   "outputs": [],
   "source": [
    "#df_M.head()"
   ]
  },
  {
   "cell_type": "code",
   "execution_count": 48,
   "id": "f1017a58",
   "metadata": {},
   "outputs": [],
   "source": [
    "def distancia_Madrid(coordin):\n",
    "    return (distance.euclidean(coord_tp_M['coordinates'],coordin))*1000"
   ]
  },
  {
   "cell_type": "code",
   "execution_count": 49,
   "id": "3e07ce83",
   "metadata": {},
   "outputs": [],
   "source": [
    "df_M[\"Distancia\"] = df_M[\"latlong\"].apply(distancia_Madrid)\n",
    "#df_M[\"Distancia\"]"
   ]
  },
  {
   "cell_type": "code",
   "execution_count": 50,
   "id": "9aa8c517",
   "metadata": {},
   "outputs": [
    {
     "data": {
      "text/html": [
       "<div>\n",
       "<style scoped>\n",
       "    .dataframe tbody tr th:only-of-type {\n",
       "        vertical-align: middle;\n",
       "    }\n",
       "\n",
       "    .dataframe tbody tr th {\n",
       "        vertical-align: top;\n",
       "    }\n",
       "\n",
       "    .dataframe thead th {\n",
       "        text-align: right;\n",
       "    }\n",
       "</style>\n",
       "<table border=\"1\" class=\"dataframe\">\n",
       "  <thead>\n",
       "    <tr style=\"text-align: right;\">\n",
       "      <th></th>\n",
       "      <th>_id</th>\n",
       "      <th>nombre</th>\n",
       "      <th>latitud</th>\n",
       "      <th>longitud</th>\n",
       "      <th>location</th>\n",
       "      <th>geometry</th>\n",
       "      <th>categoria</th>\n",
       "      <th>latlong</th>\n",
       "      <th>Distancia</th>\n",
       "      <th>ciudad</th>\n",
       "    </tr>\n",
       "  </thead>\n",
       "  <tbody>\n",
       "    <tr>\n",
       "      <th>0</th>\n",
       "      <td>618fad036bd838c298f8a6c1</td>\n",
       "      <td>MSMK Madrid School of Marketing</td>\n",
       "      <td>40.429084</td>\n",
       "      <td>-3.679913</td>\n",
       "      <td>{'type': 'Point', 'coordinates': [40.429084011...</td>\n",
       "      <td>POINT (-3.67991 40.42908)</td>\n",
       "      <td>School</td>\n",
       "      <td>[40.42908401194077, -3.6799125837274125]</td>\n",
       "      <td>0.769678</td>\n",
       "      <td>Madrid</td>\n",
       "    </tr>\n",
       "    <tr>\n",
       "      <th>1</th>\n",
       "      <td>618fad036bd838c298f8a6d2</td>\n",
       "      <td>Deusto Business School</td>\n",
       "      <td>40.430948</td>\n",
       "      <td>-3.681059</td>\n",
       "      <td>{'type': 'Point', 'coordinates': [40.430948485...</td>\n",
       "      <td>POINT (-3.68106 40.43095)</td>\n",
       "      <td>School</td>\n",
       "      <td>[40.43094848530408, -3.681059215078213]</td>\n",
       "      <td>2.247354</td>\n",
       "      <td>Madrid</td>\n",
       "    </tr>\n",
       "  </tbody>\n",
       "</table>\n",
       "</div>"
      ],
      "text/plain": [
       "                        _id                           nombre    latitud  \\\n",
       "0  618fad036bd838c298f8a6c1  MSMK Madrid School of Marketing  40.429084   \n",
       "1  618fad036bd838c298f8a6d2           Deusto Business School  40.430948   \n",
       "\n",
       "   longitud                                           location  \\\n",
       "0 -3.679913  {'type': 'Point', 'coordinates': [40.429084011...   \n",
       "1 -3.681059  {'type': 'Point', 'coordinates': [40.430948485...   \n",
       "\n",
       "                    geometry categoria  \\\n",
       "0  POINT (-3.67991 40.42908)    School   \n",
       "1  POINT (-3.68106 40.43095)    School   \n",
       "\n",
       "                                    latlong  Distancia  ciudad  \n",
       "0  [40.42908401194077, -3.6799125837274125]   0.769678  Madrid  \n",
       "1   [40.43094848530408, -3.681059215078213]   2.247354  Madrid  "
      ]
     },
     "execution_count": 50,
     "metadata": {},
     "output_type": "execute_result"
    }
   ],
   "source": [
    "df_M[\"ciudad\"] = 'Madrid'\n",
    "df_M.head(2)"
   ]
  },
  {
   "cell_type": "code",
   "execution_count": 51,
   "id": "5d9d757c",
   "metadata": {},
   "outputs": [],
   "source": [
    "mis_puntos = []\n",
    "for i,row in df_D.iterrows():\n",
    "    mis_puntos.append(row[\"location\"][\"coordinates\"])    "
   ]
  },
  {
   "cell_type": "code",
   "execution_count": 52,
   "id": "e32b3997",
   "metadata": {},
   "outputs": [],
   "source": [
    "df_D[\"latlong\"] = mis_puntos"
   ]
  },
  {
   "cell_type": "code",
   "execution_count": 53,
   "id": "413e7fef",
   "metadata": {},
   "outputs": [],
   "source": [
    "#df_D.head()"
   ]
  },
  {
   "cell_type": "code",
   "execution_count": 54,
   "id": "6fa67aa8",
   "metadata": {},
   "outputs": [],
   "source": [
    "def distancia_Dublin(coordin):\n",
    "    return (distance.euclidean(coord_tp_D['coordinates'],coordin))*1000"
   ]
  },
  {
   "cell_type": "code",
   "execution_count": 55,
   "id": "5cec87bf",
   "metadata": {},
   "outputs": [],
   "source": [
    "df_D[\"Distancia\"] = df_D[\"latlong\"].apply(distancia_Dublin)\n",
    "#df_D[\"Distancia\"]"
   ]
  },
  {
   "cell_type": "code",
   "execution_count": 56,
   "id": "b9132a04",
   "metadata": {},
   "outputs": [
    {
     "data": {
      "text/html": [
       "<div>\n",
       "<style scoped>\n",
       "    .dataframe tbody tr th:only-of-type {\n",
       "        vertical-align: middle;\n",
       "    }\n",
       "\n",
       "    .dataframe tbody tr th {\n",
       "        vertical-align: top;\n",
       "    }\n",
       "\n",
       "    .dataframe thead th {\n",
       "        text-align: right;\n",
       "    }\n",
       "</style>\n",
       "<table border=\"1\" class=\"dataframe\">\n",
       "  <thead>\n",
       "    <tr style=\"text-align: right;\">\n",
       "      <th></th>\n",
       "      <th>_id</th>\n",
       "      <th>nombre</th>\n",
       "      <th>latitud</th>\n",
       "      <th>longitud</th>\n",
       "      <th>location</th>\n",
       "      <th>geometry</th>\n",
       "      <th>categoria</th>\n",
       "      <th>latlong</th>\n",
       "      <th>Distancia</th>\n",
       "      <th>ciudad</th>\n",
       "    </tr>\n",
       "  </thead>\n",
       "  <tbody>\n",
       "    <tr>\n",
       "      <th>0</th>\n",
       "      <td>618faca16bd838c298f8a5ee</td>\n",
       "      <td>Toronto Airport Limo</td>\n",
       "      <td>53.349732</td>\n",
       "      <td>-6.260254</td>\n",
       "      <td>{'type': 'Point', 'coordinates': [53.349731569...</td>\n",
       "      <td>POINT (-6.26025 53.34973)</td>\n",
       "      <td>Airport</td>\n",
       "      <td>[53.34973156905316, -6.260254383087158]</td>\n",
       "      <td>0.642455</td>\n",
       "      <td>Dublin</td>\n",
       "    </tr>\n",
       "    <tr>\n",
       "      <th>1</th>\n",
       "      <td>618facda6bd838c298f8a668</td>\n",
       "      <td>Starbucks</td>\n",
       "      <td>53.349679</td>\n",
       "      <td>-6.259835</td>\n",
       "      <td>{'type': 'Point', 'coordinates': [53.349679131...</td>\n",
       "      <td>POINT (-6.25983 53.34968)</td>\n",
       "      <td>Starbucks</td>\n",
       "      <td>[53.34967913192385, -6.259834819120199]</td>\n",
       "      <td>0.908158</td>\n",
       "      <td>Dublin</td>\n",
       "    </tr>\n",
       "  </tbody>\n",
       "</table>\n",
       "</div>"
      ],
      "text/plain": [
       "                        _id                nombre    latitud  longitud  \\\n",
       "0  618faca16bd838c298f8a5ee  Toronto Airport Limo  53.349732 -6.260254   \n",
       "1  618facda6bd838c298f8a668             Starbucks  53.349679 -6.259835   \n",
       "\n",
       "                                            location  \\\n",
       "0  {'type': 'Point', 'coordinates': [53.349731569...   \n",
       "1  {'type': 'Point', 'coordinates': [53.349679131...   \n",
       "\n",
       "                    geometry  categoria  \\\n",
       "0  POINT (-6.26025 53.34973)    Airport   \n",
       "1  POINT (-6.25983 53.34968)  Starbucks   \n",
       "\n",
       "                                   latlong  Distancia  ciudad  \n",
       "0  [53.34973156905316, -6.260254383087158]   0.642455  Dublin  \n",
       "1  [53.34967913192385, -6.259834819120199]   0.908158  Dublin  "
      ]
     },
     "execution_count": 56,
     "metadata": {},
     "output_type": "execute_result"
    }
   ],
   "source": [
    "df_D[\"ciudad\"] = 'Dublin'\n",
    "df_D.head(2)"
   ]
  },
  {
   "cell_type": "code",
   "execution_count": 57,
   "id": "7e90b8c8",
   "metadata": {},
   "outputs": [],
   "source": [
    "mis_puntos = []\n",
    "for i,row in df_B.iterrows():\n",
    "    mis_puntos.append(row[\"location\"][\"coordinates\"])  "
   ]
  },
  {
   "cell_type": "code",
   "execution_count": 58,
   "id": "9d2f88b8",
   "metadata": {},
   "outputs": [],
   "source": [
    "df_B[\"latlong\"] = mis_puntos"
   ]
  },
  {
   "cell_type": "code",
   "execution_count": 59,
   "id": "b6a4de35",
   "metadata": {},
   "outputs": [],
   "source": [
    "#df_B.head()"
   ]
  },
  {
   "cell_type": "code",
   "execution_count": 60,
   "id": "a7e52a4f",
   "metadata": {},
   "outputs": [],
   "source": [
    "def distancia_Bucarest(coordin):\n",
    "    return (distance.euclidean(coord_tp_B['coordinates'],coordin))*1000"
   ]
  },
  {
   "cell_type": "code",
   "execution_count": 61,
   "id": "1a0e8cee",
   "metadata": {},
   "outputs": [],
   "source": [
    "df_B[\"Distancia\"] = df_B[\"latlong\"].apply(distancia_Bucarest)\n",
    "#df_B[\"Distancia\"]"
   ]
  },
  {
   "cell_type": "code",
   "execution_count": 62,
   "id": "a62ff08c",
   "metadata": {},
   "outputs": [],
   "source": [
    "#df_B.head()"
   ]
  },
  {
   "cell_type": "code",
   "execution_count": 63,
   "id": "8ebd8bff",
   "metadata": {},
   "outputs": [
    {
     "data": {
      "text/html": [
       "<div>\n",
       "<style scoped>\n",
       "    .dataframe tbody tr th:only-of-type {\n",
       "        vertical-align: middle;\n",
       "    }\n",
       "\n",
       "    .dataframe tbody tr th {\n",
       "        vertical-align: top;\n",
       "    }\n",
       "\n",
       "    .dataframe thead th {\n",
       "        text-align: right;\n",
       "    }\n",
       "</style>\n",
       "<table border=\"1\" class=\"dataframe\">\n",
       "  <thead>\n",
       "    <tr style=\"text-align: right;\">\n",
       "      <th></th>\n",
       "      <th>_id</th>\n",
       "      <th>nombre</th>\n",
       "      <th>latitud</th>\n",
       "      <th>longitud</th>\n",
       "      <th>location</th>\n",
       "      <th>geometry</th>\n",
       "      <th>categoria</th>\n",
       "      <th>latlong</th>\n",
       "      <th>Distancia</th>\n",
       "      <th>ciudad</th>\n",
       "    </tr>\n",
       "  </thead>\n",
       "  <tbody>\n",
       "    <tr>\n",
       "      <th>0</th>\n",
       "      <td>618fac476bd838c298f8a588</td>\n",
       "      <td>bella dog</td>\n",
       "      <td>44.429934</td>\n",
       "      <td>26.094152</td>\n",
       "      <td>{'type': 'Point', 'coordinates': [44.429934133...</td>\n",
       "      <td>POINT (26.09415 44.42993)</td>\n",
       "      <td>Dog grooming</td>\n",
       "      <td>[44.429934133909114, 26.09415232523072]</td>\n",
       "      <td>3.398954</td>\n",
       "      <td>Bucarest</td>\n",
       "    </tr>\n",
       "    <tr>\n",
       "      <th>1</th>\n",
       "      <td>618fac7f6bd838c298f8a5b2</td>\n",
       "      <td>ICEP Hotel School</td>\n",
       "      <td>44.420880</td>\n",
       "      <td>26.094750</td>\n",
       "      <td>{'type': 'Point', 'coordinates': [44.42088, 26...</td>\n",
       "      <td>POINT (26.09475 44.42088)</td>\n",
       "      <td>School</td>\n",
       "      <td>[44.42088, 26.09475]</td>\n",
       "      <td>6.897717</td>\n",
       "      <td>Bucarest</td>\n",
       "    </tr>\n",
       "  </tbody>\n",
       "</table>\n",
       "</div>"
      ],
      "text/plain": [
       "                        _id             nombre    latitud   longitud  \\\n",
       "0  618fac476bd838c298f8a588          bella dog  44.429934  26.094152   \n",
       "1  618fac7f6bd838c298f8a5b2  ICEP Hotel School  44.420880  26.094750   \n",
       "\n",
       "                                            location  \\\n",
       "0  {'type': 'Point', 'coordinates': [44.429934133...   \n",
       "1  {'type': 'Point', 'coordinates': [44.42088, 26...   \n",
       "\n",
       "                    geometry     categoria  \\\n",
       "0  POINT (26.09415 44.42993)  Dog grooming   \n",
       "1  POINT (26.09475 44.42088)        School   \n",
       "\n",
       "                                   latlong  Distancia    ciudad  \n",
       "0  [44.429934133909114, 26.09415232523072]   3.398954  Bucarest  \n",
       "1                     [44.42088, 26.09475]   6.897717  Bucarest  "
      ]
     },
     "execution_count": 63,
     "metadata": {},
     "output_type": "execute_result"
    }
   ],
   "source": [
    "df_B[\"ciudad\"] = 'Bucarest'\n",
    "df_B.head(2)"
   ]
  },
  {
   "cell_type": "markdown",
   "id": "3b9c7c3e",
   "metadata": {},
   "source": [
    "## Ahora intentemos hacer un ranking"
   ]
  },
  {
   "cell_type": "code",
   "execution_count": 79,
   "id": "89d911e2",
   "metadata": {},
   "outputs": [],
   "source": [
    "data = df_M.append([df_B, df_D])"
   ]
  },
  {
   "cell_type": "code",
   "execution_count": 80,
   "id": "ffca3294",
   "metadata": {},
   "outputs": [
    {
     "data": {
      "text/plain": [
       "(283, 10)"
      ]
     },
     "execution_count": 80,
     "metadata": {},
     "output_type": "execute_result"
    }
   ],
   "source": [
    "data.shape"
   ]
  },
  {
   "cell_type": "code",
   "execution_count": 89,
   "id": "e06c4c65",
   "metadata": {},
   "outputs": [],
   "source": [
    "def puntuacion(x):\n",
    "    if x == 'Airport':\n",
    "        return 2\n",
    "    elif x == 'School':\n",
    "        return 5\n",
    "    elif x == 'Starbucks':\n",
    "        return 4\n",
    "    elif x == 'Disco':\n",
    "        return 3\n",
    "    else:\n",
    "        return 1"
   ]
  },
  {
   "cell_type": "code",
   "execution_count": 90,
   "id": "ba2bffae",
   "metadata": {},
   "outputs": [],
   "source": [
    "data[\"Ranking\"] = data[\"categoria\"].apply(puntuacion)"
   ]
  },
  {
   "cell_type": "code",
   "execution_count": 91,
   "id": "77806a38",
   "metadata": {},
   "outputs": [
    {
     "data": {
      "text/html": [
       "<div>\n",
       "<style scoped>\n",
       "    .dataframe tbody tr th:only-of-type {\n",
       "        vertical-align: middle;\n",
       "    }\n",
       "\n",
       "    .dataframe tbody tr th {\n",
       "        vertical-align: top;\n",
       "    }\n",
       "\n",
       "    .dataframe thead th {\n",
       "        text-align: right;\n",
       "    }\n",
       "</style>\n",
       "<table border=\"1\" class=\"dataframe\">\n",
       "  <thead>\n",
       "    <tr style=\"text-align: right;\">\n",
       "      <th></th>\n",
       "      <th>_id</th>\n",
       "      <th>nombre</th>\n",
       "      <th>latitud</th>\n",
       "      <th>longitud</th>\n",
       "      <th>location</th>\n",
       "      <th>geometry</th>\n",
       "      <th>categoria</th>\n",
       "      <th>latlong</th>\n",
       "      <th>Distancia</th>\n",
       "      <th>ciudad</th>\n",
       "      <th>ranking</th>\n",
       "      <th>Ranking</th>\n",
       "    </tr>\n",
       "  </thead>\n",
       "  <tbody>\n",
       "    <tr>\n",
       "      <th>0</th>\n",
       "      <td>618fad036bd838c298f8a6c1</td>\n",
       "      <td>MSMK Madrid School of Marketing</td>\n",
       "      <td>40.429084</td>\n",
       "      <td>-3.679913</td>\n",
       "      <td>{'type': 'Point', 'coordinates': [40.429084011...</td>\n",
       "      <td>POINT (-3.67991 40.42908)</td>\n",
       "      <td>School</td>\n",
       "      <td>[40.42908401194077, -3.6799125837274125]</td>\n",
       "      <td>0.769678</td>\n",
       "      <td>Madrid</td>\n",
       "      <td>5</td>\n",
       "      <td>5</td>\n",
       "    </tr>\n",
       "    <tr>\n",
       "      <th>1</th>\n",
       "      <td>618fad036bd838c298f8a6d2</td>\n",
       "      <td>Deusto Business School</td>\n",
       "      <td>40.430948</td>\n",
       "      <td>-3.681059</td>\n",
       "      <td>{'type': 'Point', 'coordinates': [40.430948485...</td>\n",
       "      <td>POINT (-3.68106 40.43095)</td>\n",
       "      <td>School</td>\n",
       "      <td>[40.43094848530408, -3.681059215078213]</td>\n",
       "      <td>2.247354</td>\n",
       "      <td>Madrid</td>\n",
       "      <td>5</td>\n",
       "      <td>5</td>\n",
       "    </tr>\n",
       "  </tbody>\n",
       "</table>\n",
       "</div>"
      ],
      "text/plain": [
       "                        _id                           nombre    latitud  \\\n",
       "0  618fad036bd838c298f8a6c1  MSMK Madrid School of Marketing  40.429084   \n",
       "1  618fad036bd838c298f8a6d2           Deusto Business School  40.430948   \n",
       "\n",
       "   longitud                                           location  \\\n",
       "0 -3.679913  {'type': 'Point', 'coordinates': [40.429084011...   \n",
       "1 -3.681059  {'type': 'Point', 'coordinates': [40.430948485...   \n",
       "\n",
       "                    geometry categoria  \\\n",
       "0  POINT (-3.67991 40.42908)    School   \n",
       "1  POINT (-3.68106 40.43095)    School   \n",
       "\n",
       "                                    latlong  Distancia  ciudad  ranking  \\\n",
       "0  [40.42908401194077, -3.6799125837274125]   0.769678  Madrid        5   \n",
       "1   [40.43094848530408, -3.681059215078213]   2.247354  Madrid        5   \n",
       "\n",
       "   Ranking  \n",
       "0        5  \n",
       "1        5  "
      ]
     },
     "execution_count": 91,
     "metadata": {},
     "output_type": "execute_result"
    }
   ],
   "source": [
    "data.head(2)"
   ]
  },
  {
   "cell_type": "code",
   "execution_count": 92,
   "id": "7516ebe3",
   "metadata": {},
   "outputs": [],
   "source": [
    "data_final = data[data[\"categoria\"] != 'Others']"
   ]
  },
  {
   "cell_type": "code",
   "execution_count": 93,
   "id": "9790511e",
   "metadata": {},
   "outputs": [],
   "source": [
    "total_data = data_final.groupby([\"categoria\", \"ciudad\"]).mean()"
   ]
  },
  {
   "cell_type": "code",
   "execution_count": 97,
   "id": "e53e9d1b",
   "metadata": {},
   "outputs": [
    {
     "data": {
      "text/html": [
       "<div>\n",
       "<style scoped>\n",
       "    .dataframe tbody tr th:only-of-type {\n",
       "        vertical-align: middle;\n",
       "    }\n",
       "\n",
       "    .dataframe tbody tr th {\n",
       "        vertical-align: top;\n",
       "    }\n",
       "\n",
       "    .dataframe thead th {\n",
       "        text-align: right;\n",
       "    }\n",
       "</style>\n",
       "<table border=\"1\" class=\"dataframe\">\n",
       "  <thead>\n",
       "    <tr style=\"text-align: right;\">\n",
       "      <th></th>\n",
       "      <th></th>\n",
       "      <th>latitud</th>\n",
       "      <th>longitud</th>\n",
       "      <th>Distancia</th>\n",
       "      <th>Ranking</th>\n",
       "    </tr>\n",
       "    <tr>\n",
       "      <th>categoria</th>\n",
       "      <th>ciudad</th>\n",
       "      <th></th>\n",
       "      <th></th>\n",
       "      <th></th>\n",
       "      <th></th>\n",
       "    </tr>\n",
       "  </thead>\n",
       "  <tbody>\n",
       "    <tr>\n",
       "      <th rowspan=\"3\" valign=\"top\">Airport</th>\n",
       "      <th>Bucarest</th>\n",
       "      <td>44.437259</td>\n",
       "      <td>26.091341</td>\n",
       "      <td>17.402089</td>\n",
       "      <td>2.0</td>\n",
       "    </tr>\n",
       "    <tr>\n",
       "      <th>Dublin</th>\n",
       "      <td>53.350183</td>\n",
       "      <td>-6.261680</td>\n",
       "      <td>16.862564</td>\n",
       "      <td>2.0</td>\n",
       "    </tr>\n",
       "    <tr>\n",
       "      <th>Madrid</th>\n",
       "      <td>40.430468</td>\n",
       "      <td>-3.695076</td>\n",
       "      <td>25.885293</td>\n",
       "      <td>2.0</td>\n",
       "    </tr>\n",
       "    <tr>\n",
       "      <th rowspan=\"3\" valign=\"top\">Disco</th>\n",
       "      <th>Bucarest</th>\n",
       "      <td>44.438146</td>\n",
       "      <td>26.096557</td>\n",
       "      <td>21.067706</td>\n",
       "      <td>3.0</td>\n",
       "    </tr>\n",
       "    <tr>\n",
       "      <th>Dublin</th>\n",
       "      <td>53.342643</td>\n",
       "      <td>-6.262321</td>\n",
       "      <td>8.816538</td>\n",
       "      <td>3.0</td>\n",
       "    </tr>\n",
       "    <tr>\n",
       "      <th>Madrid</th>\n",
       "      <td>40.446783</td>\n",
       "      <td>-3.681514</td>\n",
       "      <td>22.529341</td>\n",
       "      <td>3.0</td>\n",
       "    </tr>\n",
       "    <tr>\n",
       "      <th rowspan=\"3\" valign=\"top\">Dog grooming</th>\n",
       "      <th>Bucarest</th>\n",
       "      <td>44.433840</td>\n",
       "      <td>26.096344</td>\n",
       "      <td>25.599482</td>\n",
       "      <td>1.0</td>\n",
       "    </tr>\n",
       "    <tr>\n",
       "      <th>Dublin</th>\n",
       "      <td>53.346605</td>\n",
       "      <td>-6.259738</td>\n",
       "      <td>20.385157</td>\n",
       "      <td>1.0</td>\n",
       "    </tr>\n",
       "    <tr>\n",
       "      <th>Madrid</th>\n",
       "      <td>40.430027</td>\n",
       "      <td>-3.691807</td>\n",
       "      <td>24.703066</td>\n",
       "      <td>1.0</td>\n",
       "    </tr>\n",
       "    <tr>\n",
       "      <th rowspan=\"3\" valign=\"top\">School</th>\n",
       "      <th>Bucarest</th>\n",
       "      <td>44.437523</td>\n",
       "      <td>26.098311</td>\n",
       "      <td>21.029913</td>\n",
       "      <td>5.0</td>\n",
       "    </tr>\n",
       "    <tr>\n",
       "      <th>Dublin</th>\n",
       "      <td>53.345240</td>\n",
       "      <td>-6.259633</td>\n",
       "      <td>8.150257</td>\n",
       "      <td>5.0</td>\n",
       "    </tr>\n",
       "    <tr>\n",
       "      <th>Madrid</th>\n",
       "      <td>40.432110</td>\n",
       "      <td>-3.686464</td>\n",
       "      <td>11.548951</td>\n",
       "      <td>5.0</td>\n",
       "    </tr>\n",
       "    <tr>\n",
       "      <th rowspan=\"3\" valign=\"top\">Starbucks</th>\n",
       "      <th>Bucarest</th>\n",
       "      <td>44.436830</td>\n",
       "      <td>26.089847</td>\n",
       "      <td>27.899706</td>\n",
       "      <td>4.0</td>\n",
       "    </tr>\n",
       "    <tr>\n",
       "      <th>Dublin</th>\n",
       "      <td>53.344248</td>\n",
       "      <td>-6.258088</td>\n",
       "      <td>9.642037</td>\n",
       "      <td>4.0</td>\n",
       "    </tr>\n",
       "    <tr>\n",
       "      <th>Madrid</th>\n",
       "      <td>40.423869</td>\n",
       "      <td>-3.698097</td>\n",
       "      <td>22.608992</td>\n",
       "      <td>4.0</td>\n",
       "    </tr>\n",
       "  </tbody>\n",
       "</table>\n",
       "</div>"
      ],
      "text/plain": [
       "                         latitud   longitud  Distancia  Ranking\n",
       "categoria    ciudad                                            \n",
       "Airport      Bucarest  44.437259  26.091341  17.402089      2.0\n",
       "             Dublin    53.350183  -6.261680  16.862564      2.0\n",
       "             Madrid    40.430468  -3.695076  25.885293      2.0\n",
       "Disco        Bucarest  44.438146  26.096557  21.067706      3.0\n",
       "             Dublin    53.342643  -6.262321   8.816538      3.0\n",
       "             Madrid    40.446783  -3.681514  22.529341      3.0\n",
       "Dog grooming Bucarest  44.433840  26.096344  25.599482      1.0\n",
       "             Dublin    53.346605  -6.259738  20.385157      1.0\n",
       "             Madrid    40.430027  -3.691807  24.703066      1.0\n",
       "School       Bucarest  44.437523  26.098311  21.029913      5.0\n",
       "             Dublin    53.345240  -6.259633   8.150257      5.0\n",
       "             Madrid    40.432110  -3.686464  11.548951      5.0\n",
       "Starbucks    Bucarest  44.436830  26.089847  27.899706      4.0\n",
       "             Dublin    53.344248  -6.258088   9.642037      4.0\n",
       "             Madrid    40.423869  -3.698097  22.608992      4.0"
      ]
     },
     "execution_count": 97,
     "metadata": {},
     "output_type": "execute_result"
    }
   ],
   "source": [
    "total_data"
   ]
  },
  {
   "cell_type": "code",
   "execution_count": 98,
   "id": "b8bd1842",
   "metadata": {},
   "outputs": [
    {
     "data": {
      "text/html": [
       "<div>\n",
       "<style scoped>\n",
       "    .dataframe tbody tr th:only-of-type {\n",
       "        vertical-align: middle;\n",
       "    }\n",
       "\n",
       "    .dataframe tbody tr th {\n",
       "        vertical-align: top;\n",
       "    }\n",
       "\n",
       "    .dataframe thead th {\n",
       "        text-align: right;\n",
       "    }\n",
       "</style>\n",
       "<table border=\"1\" class=\"dataframe\">\n",
       "  <thead>\n",
       "    <tr style=\"text-align: right;\">\n",
       "      <th></th>\n",
       "      <th>categoria</th>\n",
       "      <th>ciudad</th>\n",
       "      <th>latitud</th>\n",
       "      <th>longitud</th>\n",
       "      <th>Distancia</th>\n",
       "      <th>Ranking</th>\n",
       "    </tr>\n",
       "  </thead>\n",
       "  <tbody>\n",
       "    <tr>\n",
       "      <th>0</th>\n",
       "      <td>Airport</td>\n",
       "      <td>Bucarest</td>\n",
       "      <td>44.437259</td>\n",
       "      <td>26.091341</td>\n",
       "      <td>17.402089</td>\n",
       "      <td>2.0</td>\n",
       "    </tr>\n",
       "    <tr>\n",
       "      <th>1</th>\n",
       "      <td>Airport</td>\n",
       "      <td>Dublin</td>\n",
       "      <td>53.350183</td>\n",
       "      <td>-6.261680</td>\n",
       "      <td>16.862564</td>\n",
       "      <td>2.0</td>\n",
       "    </tr>\n",
       "    <tr>\n",
       "      <th>2</th>\n",
       "      <td>Airport</td>\n",
       "      <td>Madrid</td>\n",
       "      <td>40.430468</td>\n",
       "      <td>-3.695076</td>\n",
       "      <td>25.885293</td>\n",
       "      <td>2.0</td>\n",
       "    </tr>\n",
       "    <tr>\n",
       "      <th>3</th>\n",
       "      <td>Disco</td>\n",
       "      <td>Bucarest</td>\n",
       "      <td>44.438146</td>\n",
       "      <td>26.096557</td>\n",
       "      <td>21.067706</td>\n",
       "      <td>3.0</td>\n",
       "    </tr>\n",
       "    <tr>\n",
       "      <th>4</th>\n",
       "      <td>Disco</td>\n",
       "      <td>Dublin</td>\n",
       "      <td>53.342643</td>\n",
       "      <td>-6.262321</td>\n",
       "      <td>8.816538</td>\n",
       "      <td>3.0</td>\n",
       "    </tr>\n",
       "    <tr>\n",
       "      <th>5</th>\n",
       "      <td>Disco</td>\n",
       "      <td>Madrid</td>\n",
       "      <td>40.446783</td>\n",
       "      <td>-3.681514</td>\n",
       "      <td>22.529341</td>\n",
       "      <td>3.0</td>\n",
       "    </tr>\n",
       "    <tr>\n",
       "      <th>6</th>\n",
       "      <td>Dog grooming</td>\n",
       "      <td>Bucarest</td>\n",
       "      <td>44.433840</td>\n",
       "      <td>26.096344</td>\n",
       "      <td>25.599482</td>\n",
       "      <td>1.0</td>\n",
       "    </tr>\n",
       "    <tr>\n",
       "      <th>7</th>\n",
       "      <td>Dog grooming</td>\n",
       "      <td>Dublin</td>\n",
       "      <td>53.346605</td>\n",
       "      <td>-6.259738</td>\n",
       "      <td>20.385157</td>\n",
       "      <td>1.0</td>\n",
       "    </tr>\n",
       "    <tr>\n",
       "      <th>8</th>\n",
       "      <td>Dog grooming</td>\n",
       "      <td>Madrid</td>\n",
       "      <td>40.430027</td>\n",
       "      <td>-3.691807</td>\n",
       "      <td>24.703066</td>\n",
       "      <td>1.0</td>\n",
       "    </tr>\n",
       "    <tr>\n",
       "      <th>9</th>\n",
       "      <td>School</td>\n",
       "      <td>Bucarest</td>\n",
       "      <td>44.437523</td>\n",
       "      <td>26.098311</td>\n",
       "      <td>21.029913</td>\n",
       "      <td>5.0</td>\n",
       "    </tr>\n",
       "    <tr>\n",
       "      <th>10</th>\n",
       "      <td>School</td>\n",
       "      <td>Dublin</td>\n",
       "      <td>53.345240</td>\n",
       "      <td>-6.259633</td>\n",
       "      <td>8.150257</td>\n",
       "      <td>5.0</td>\n",
       "    </tr>\n",
       "    <tr>\n",
       "      <th>11</th>\n",
       "      <td>School</td>\n",
       "      <td>Madrid</td>\n",
       "      <td>40.432110</td>\n",
       "      <td>-3.686464</td>\n",
       "      <td>11.548951</td>\n",
       "      <td>5.0</td>\n",
       "    </tr>\n",
       "    <tr>\n",
       "      <th>12</th>\n",
       "      <td>Starbucks</td>\n",
       "      <td>Bucarest</td>\n",
       "      <td>44.436830</td>\n",
       "      <td>26.089847</td>\n",
       "      <td>27.899706</td>\n",
       "      <td>4.0</td>\n",
       "    </tr>\n",
       "    <tr>\n",
       "      <th>13</th>\n",
       "      <td>Starbucks</td>\n",
       "      <td>Dublin</td>\n",
       "      <td>53.344248</td>\n",
       "      <td>-6.258088</td>\n",
       "      <td>9.642037</td>\n",
       "      <td>4.0</td>\n",
       "    </tr>\n",
       "    <tr>\n",
       "      <th>14</th>\n",
       "      <td>Starbucks</td>\n",
       "      <td>Madrid</td>\n",
       "      <td>40.423869</td>\n",
       "      <td>-3.698097</td>\n",
       "      <td>22.608992</td>\n",
       "      <td>4.0</td>\n",
       "    </tr>\n",
       "  </tbody>\n",
       "</table>\n",
       "</div>"
      ],
      "text/plain": [
       "       categoria    ciudad    latitud   longitud  Distancia  Ranking\n",
       "0        Airport  Bucarest  44.437259  26.091341  17.402089      2.0\n",
       "1        Airport    Dublin  53.350183  -6.261680  16.862564      2.0\n",
       "2        Airport    Madrid  40.430468  -3.695076  25.885293      2.0\n",
       "3          Disco  Bucarest  44.438146  26.096557  21.067706      3.0\n",
       "4          Disco    Dublin  53.342643  -6.262321   8.816538      3.0\n",
       "5          Disco    Madrid  40.446783  -3.681514  22.529341      3.0\n",
       "6   Dog grooming  Bucarest  44.433840  26.096344  25.599482      1.0\n",
       "7   Dog grooming    Dublin  53.346605  -6.259738  20.385157      1.0\n",
       "8   Dog grooming    Madrid  40.430027  -3.691807  24.703066      1.0\n",
       "9         School  Bucarest  44.437523  26.098311  21.029913      5.0\n",
       "10        School    Dublin  53.345240  -6.259633   8.150257      5.0\n",
       "11        School    Madrid  40.432110  -3.686464  11.548951      5.0\n",
       "12     Starbucks  Bucarest  44.436830  26.089847  27.899706      4.0\n",
       "13     Starbucks    Dublin  53.344248  -6.258088   9.642037      4.0\n",
       "14     Starbucks    Madrid  40.423869  -3.698097  22.608992      4.0"
      ]
     },
     "execution_count": 98,
     "metadata": {},
     "output_type": "execute_result"
    }
   ],
   "source": [
    "total_data.reset_index(drop = False)"
   ]
  },
  {
   "cell_type": "code",
   "execution_count": 107,
   "id": "a121bd07",
   "metadata": {},
   "outputs": [
    {
     "data": {
      "text/html": [
       "<div>\n",
       "<style scoped>\n",
       "    .dataframe tbody tr th:only-of-type {\n",
       "        vertical-align: middle;\n",
       "    }\n",
       "\n",
       "    .dataframe tbody tr th {\n",
       "        vertical-align: top;\n",
       "    }\n",
       "\n",
       "    .dataframe thead th {\n",
       "        text-align: right;\n",
       "    }\n",
       "</style>\n",
       "<table border=\"1\" class=\"dataframe\">\n",
       "  <thead>\n",
       "    <tr style=\"text-align: right;\">\n",
       "      <th></th>\n",
       "      <th>categoria</th>\n",
       "      <th>ciudad</th>\n",
       "      <th>latitud</th>\n",
       "      <th>longitud</th>\n",
       "      <th>Distancia</th>\n",
       "      <th>Ranking</th>\n",
       "      <th>Totales</th>\n",
       "    </tr>\n",
       "  </thead>\n",
       "  <tbody>\n",
       "    <tr>\n",
       "      <th>0</th>\n",
       "      <td>Airport</td>\n",
       "      <td>Bucarest</td>\n",
       "      <td>44.437259</td>\n",
       "      <td>26.091341</td>\n",
       "      <td>17.402089</td>\n",
       "      <td>2.0</td>\n",
       "      <td>34.804177</td>\n",
       "    </tr>\n",
       "    <tr>\n",
       "      <th>1</th>\n",
       "      <td>Airport</td>\n",
       "      <td>Dublin</td>\n",
       "      <td>53.350183</td>\n",
       "      <td>-6.261680</td>\n",
       "      <td>16.862564</td>\n",
       "      <td>2.0</td>\n",
       "      <td>33.725128</td>\n",
       "    </tr>\n",
       "    <tr>\n",
       "      <th>2</th>\n",
       "      <td>Airport</td>\n",
       "      <td>Madrid</td>\n",
       "      <td>40.430468</td>\n",
       "      <td>-3.695076</td>\n",
       "      <td>25.885293</td>\n",
       "      <td>2.0</td>\n",
       "      <td>51.770587</td>\n",
       "    </tr>\n",
       "    <tr>\n",
       "      <th>3</th>\n",
       "      <td>Disco</td>\n",
       "      <td>Bucarest</td>\n",
       "      <td>44.438146</td>\n",
       "      <td>26.096557</td>\n",
       "      <td>21.067706</td>\n",
       "      <td>3.0</td>\n",
       "      <td>63.203118</td>\n",
       "    </tr>\n",
       "    <tr>\n",
       "      <th>4</th>\n",
       "      <td>Disco</td>\n",
       "      <td>Dublin</td>\n",
       "      <td>53.342643</td>\n",
       "      <td>-6.262321</td>\n",
       "      <td>8.816538</td>\n",
       "      <td>3.0</td>\n",
       "      <td>26.449615</td>\n",
       "    </tr>\n",
       "  </tbody>\n",
       "</table>\n",
       "</div>"
      ],
      "text/plain": [
       "  categoria    ciudad    latitud   longitud  Distancia  Ranking    Totales\n",
       "0   Airport  Bucarest  44.437259  26.091341  17.402089      2.0  34.804177\n",
       "1   Airport    Dublin  53.350183  -6.261680  16.862564      2.0  33.725128\n",
       "2   Airport    Madrid  40.430468  -3.695076  25.885293      2.0  51.770587\n",
       "3     Disco  Bucarest  44.438146  26.096557  21.067706      3.0  63.203118\n",
       "4     Disco    Dublin  53.342643  -6.262321   8.816538      3.0  26.449615"
      ]
     },
     "execution_count": 107,
     "metadata": {},
     "output_type": "execute_result"
    }
   ],
   "source": [
    "total_data['Totales'] = total_data['Distancia'] * total_data['Ranking']\n",
    "total_data = total_data.reset_index()\n",
    "total_data.head()"
   ]
  },
  {
   "cell_type": "code",
   "execution_count": 108,
   "id": "7059d050",
   "metadata": {},
   "outputs": [],
   "source": [
    "total_data_final = total_data.groupby(['ciudad'])[\"Totales\"].sum()"
   ]
  },
  {
   "cell_type": "code",
   "execution_count": 109,
   "id": "9d0ea69d",
   "metadata": {},
   "outputs": [
    {
     "data": {
      "text/plain": [
       "ciudad\n",
       "Bucarest    340.355169\n",
       "Dublin      159.879332\n",
       "Madrid      292.242400\n",
       "Name: Totales, dtype: float64"
      ]
     },
     "execution_count": 109,
     "metadata": {},
     "output_type": "execute_result"
    }
   ],
   "source": [
    "total_data_final"
   ]
  },
  {
   "cell_type": "code",
   "execution_count": 111,
   "id": "43d5f8a7",
   "metadata": {},
   "outputs": [],
   "source": [
    "total_data_final.to_csv('../Data/Ciudades_ready.csv')"
   ]
  }
 ],
 "metadata": {
  "kernelspec": {
   "display_name": "ironhack",
   "language": "python",
   "name": "ironhack"
  },
  "language_info": {
   "codemirror_mode": {
    "name": "ipython",
    "version": 3
   },
   "file_extension": ".py",
   "mimetype": "text/x-python",
   "name": "python",
   "nbconvert_exporter": "python",
   "pygments_lexer": "ipython3",
   "version": "3.8.10"
  }
 },
 "nbformat": 4,
 "nbformat_minor": 5
}
